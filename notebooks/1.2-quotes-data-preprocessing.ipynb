{
 "cells": [
  {
   "cell_type": "markdown",
   "metadata": {},
   "source": [
    "# Data Preprocessing of Quotes Datasets"
   ]
  },
  {
   "cell_type": "markdown",
   "metadata": {},
   "source": [
    "## 1. Quotes Dataset From Kaggle\n",
    "\n",
    "[Quotes Dataset](https://www.kaggle.com/datasets/hiteshsuthar101/quotes-dataset) — 852 quotes entries parsed and labeled from [quotepark.com](quotepark.com) "
   ]
  },
  {
   "cell_type": "code",
   "execution_count": 1,
   "metadata": {
    "ExecuteTime": {
     "end_time": "2023-11-13T18:58:31.239866Z",
     "start_time": "2023-11-13T18:58:30.960353Z"
    }
   },
   "outputs": [
    {
     "data": {
      "text/html": [
       "<div>\n",
       "<style scoped>\n",
       "    .dataframe tbody tr th:only-of-type {\n",
       "        vertical-align: middle;\n",
       "    }\n",
       "\n",
       "    .dataframe tbody tr th {\n",
       "        vertical-align: top;\n",
       "    }\n",
       "\n",
       "    .dataframe thead th {\n",
       "        text-align: right;\n",
       "    }\n",
       "</style>\n",
       "<table border=\"1\" class=\"dataframe\">\n",
       "  <thead>\n",
       "    <tr style=\"text-align: right;\">\n",
       "      <th></th>\n",
       "      <th>Id</th>\n",
       "      <th>language</th>\n",
       "      <th>Quote</th>\n",
       "      <th>Quote_url</th>\n",
       "      <th>Author</th>\n",
       "      <th>Author_Profile</th>\n",
       "      <th>Tags</th>\n",
       "    </tr>\n",
       "  </thead>\n",
       "  <tbody>\n",
       "    <tr>\n",
       "      <th>0</th>\n",
       "      <td>2114238</td>\n",
       "      <td>en</td>\n",
       "      <td>Mimì never forgets to see the beauty in life.</td>\n",
       "      <td>https://quotepark.com/quotes/2114238-megan-mar...</td>\n",
       "      <td>Megan Marie Hart</td>\n",
       "      <td>https://quotepark.com/authors/megan-marie-hart/</td>\n",
       "      <td>Life, Beauty, Forgetting</td>\n",
       "    </tr>\n",
       "  </tbody>\n",
       "</table>\n",
       "</div>"
      ],
      "text/plain": [
       "        Id language                                          Quote  \\\n",
       "0  2114238       en  Mimì never forgets to see the beauty in life.   \n",
       "\n",
       "                                           Quote_url            Author  \\\n",
       "0  https://quotepark.com/quotes/2114238-megan-mar...  Megan Marie Hart   \n",
       "\n",
       "                                    Author_Profile                      Tags  \n",
       "0  https://quotepark.com/authors/megan-marie-hart/  Life, Beauty, Forgetting  "
      ]
     },
     "execution_count": 1,
     "metadata": {},
     "output_type": "execute_result"
    }
   ],
   "source": [
    "import pandas as pd\n",
    "\n",
    "\n",
    "quotes_ds_dir = '../data/quotes.csv'\n",
    "\n",
    "df = pd.read_csv(quotes_ds_dir)\n",
    "df.head(1)"
   ]
  },
  {
   "cell_type": "markdown",
   "metadata": {},
   "source": [
    "### 0.0 Labeling using classifiers"
   ]
  },
  {
   "cell_type": "code",
   "execution_count": 5,
   "metadata": {},
   "outputs": [
    {
     "data": {
      "text/plain": [
       "['Mimì never forgets to see the beauty in life.',\n",
       " 'I will choose the bad guy in every story, I am attracted to villians',\n",
       " \"Even perfect people are taught to practice imperfections just to fit in the society. Thus, the famous saying of 'no one is perfect' still prevails.\",\n",
       " 'The greater your capacity to love, the greater your capacity to feel the pain',\n",
       " 'We Turks are faithful muslims.']"
      ]
     },
     "execution_count": 5,
     "metadata": {},
     "output_type": "execute_result"
    }
   ],
   "source": [
    "quotes = df['Quote'].to_list()\n",
    "quotes[:5]"
   ]
  },
  {
   "cell_type": "code",
   "execution_count": 2,
   "metadata": {},
   "outputs": [
    {
     "name": "stdout",
     "output_type": "stream",
     "text": [
      "[2023-11-28 01:11:07,473] [INFO] [real_accelerator.py:158:get_accelerator] Setting ds_accelerator to cuda (auto detect)\n"
     ]
    },
    {
     "data": {
      "application/vnd.jupyter.widget-view+json": {
       "model_id": "abddd2aa3dd741f6a240bbcc8ac58bab",
       "version_major": 2,
       "version_minor": 0
      },
      "text/plain": [
       "Downloading config.json:   0%|          | 0.00/1.92k [00:00<?, ?B/s]"
      ]
     },
     "metadata": {},
     "output_type": "display_data"
    },
    {
     "data": {
      "application/vnd.jupyter.widget-view+json": {
       "model_id": "7910da51b7d34a3cb18dcf5253c9df40",
       "version_major": 2,
       "version_minor": 0
      },
      "text/plain": [
       "Downloading model.safetensors:   0%|          | 0.00/499M [00:00<?, ?B/s]"
      ]
     },
     "metadata": {},
     "output_type": "display_data"
    },
    {
     "data": {
      "application/vnd.jupyter.widget-view+json": {
       "model_id": "a04e8f3445a44763b71a4fb5774e3e9a",
       "version_major": 2,
       "version_minor": 0
      },
      "text/plain": [
       "Downloading tokenizer_config.json:   0%|          | 0.00/380 [00:00<?, ?B/s]"
      ]
     },
     "metadata": {},
     "output_type": "display_data"
    },
    {
     "data": {
      "application/vnd.jupyter.widget-view+json": {
       "model_id": "3f5554a06b33436fa7fd4ee5efd67a1e",
       "version_major": 2,
       "version_minor": 0
      },
      "text/plain": [
       "Downloading vocab.json:   0%|          | 0.00/798k [00:00<?, ?B/s]"
      ]
     },
     "metadata": {},
     "output_type": "display_data"
    },
    {
     "data": {
      "application/vnd.jupyter.widget-view+json": {
       "model_id": "7ef1bae1b7e84aa7b0efc1d8e6b3eaef",
       "version_major": 2,
       "version_minor": 0
      },
      "text/plain": [
       "Downloading merges.txt:   0%|          | 0.00/456k [00:00<?, ?B/s]"
      ]
     },
     "metadata": {},
     "output_type": "display_data"
    },
    {
     "data": {
      "application/vnd.jupyter.widget-view+json": {
       "model_id": "24dd2e756f3048659a4890f6b5a2f886",
       "version_major": 2,
       "version_minor": 0
      },
      "text/plain": [
       "Downloading tokenizer.json:   0%|          | 0.00/2.11M [00:00<?, ?B/s]"
      ]
     },
     "metadata": {},
     "output_type": "display_data"
    },
    {
     "data": {
      "application/vnd.jupyter.widget-view+json": {
       "model_id": "246f0ad9c77749089cf7873ecccb35f5",
       "version_major": 2,
       "version_minor": 0
      },
      "text/plain": [
       "Downloading (…)cial_tokens_map.json:   0%|          | 0.00/280 [00:00<?, ?B/s]"
      ]
     },
     "metadata": {},
     "output_type": "display_data"
    }
   ],
   "source": [
    "from transformers import pipeline\n",
    "\n",
    "\n",
    "reddit_classifier = pipeline(task=\"text-classification\", model=\"SamLowe/roberta-base-go_emotions\", top_k=None, padding=True, truncation=True)\n",
    "twitter_classifier = pipeline(task=\"text-classification\", model=\"cardiffnlp/twitter-roberta-base-emotion-multilabel-latest\", top_k=None, padding=True, truncation=True)"
   ]
  },
  {
   "cell_type": "code",
   "execution_count": 6,
   "metadata": {},
   "outputs": [],
   "source": [
    "import pickle\n",
    "\n",
    "reddit_outputs = reddit_classifier(quotes)\n",
    "with open('../data/quotes_reddit_outputs.pickle', 'wb') as handle:\n",
    "    pickle.dump(reddit_outputs, handle)"
   ]
  },
  {
   "cell_type": "code",
   "execution_count": 7,
   "metadata": {},
   "outputs": [],
   "source": [
    "import pickle\n",
    "\n",
    "twitter_outputs = twitter_classifier(quotes)\n",
    "with open('../data/quotes_twitter_outputs.pickle', 'wb') as handle:\n",
    "    pickle.dump(twitter_outputs, handle)"
   ]
  },
  {
   "cell_type": "code",
   "execution_count": 8,
   "metadata": {},
   "outputs": [
    {
     "data": {
      "text/html": [
       "<div>\n",
       "<style scoped>\n",
       "    .dataframe tbody tr th:only-of-type {\n",
       "        vertical-align: middle;\n",
       "    }\n",
       "\n",
       "    .dataframe tbody tr th {\n",
       "        vertical-align: top;\n",
       "    }\n",
       "\n",
       "    .dataframe thead th {\n",
       "        text-align: right;\n",
       "    }\n",
       "</style>\n",
       "<table border=\"1\" class=\"dataframe\">\n",
       "  <thead>\n",
       "    <tr style=\"text-align: right;\">\n",
       "      <th></th>\n",
       "      <th>Text</th>\n",
       "      <th>neutral</th>\n",
       "      <th>joy</th>\n",
       "      <th>admiration</th>\n",
       "      <th>approval</th>\n",
       "      <th>love</th>\n",
       "      <th>realization</th>\n",
       "      <th>excitement</th>\n",
       "      <th>pride</th>\n",
       "      <th>disappointment</th>\n",
       "      <th>...</th>\n",
       "      <th>anger</th>\n",
       "      <th>grief</th>\n",
       "      <th>surprise</th>\n",
       "      <th>remorse</th>\n",
       "      <th>embarrassment</th>\n",
       "      <th>disgust</th>\n",
       "      <th>fear</th>\n",
       "      <th>nervousness</th>\n",
       "      <th>confusion</th>\n",
       "      <th>curiosity</th>\n",
       "    </tr>\n",
       "  </thead>\n",
       "  <tbody>\n",
       "    <tr>\n",
       "      <th>0</th>\n",
       "      <td>Mimì never forgets to see the beauty in life.</td>\n",
       "      <td>0.551236</td>\n",
       "      <td>0.187882</td>\n",
       "      <td>0.069275</td>\n",
       "      <td>0.042249</td>\n",
       "      <td>0.042008</td>\n",
       "      <td>0.014933</td>\n",
       "      <td>0.009515</td>\n",
       "      <td>0.009458</td>\n",
       "      <td>0.008158</td>\n",
       "      <td>...</td>\n",
       "      <td>0.002037</td>\n",
       "      <td>0.001676</td>\n",
       "      <td>0.001652</td>\n",
       "      <td>0.001333</td>\n",
       "      <td>0.001197</td>\n",
       "      <td>0.001169</td>\n",
       "      <td>0.000561</td>\n",
       "      <td>0.000509</td>\n",
       "      <td>0.000431</td>\n",
       "      <td>0.000287</td>\n",
       "    </tr>\n",
       "    <tr>\n",
       "      <th>1</th>\n",
       "      <td>I will choose the bad guy in every story, I am...</td>\n",
       "      <td>0.302971</td>\n",
       "      <td>0.004391</td>\n",
       "      <td>0.020285</td>\n",
       "      <td>0.445553</td>\n",
       "      <td>0.156137</td>\n",
       "      <td>0.009212</td>\n",
       "      <td>0.011000</td>\n",
       "      <td>0.000714</td>\n",
       "      <td>0.001421</td>\n",
       "      <td>...</td>\n",
       "      <td>0.001112</td>\n",
       "      <td>0.000202</td>\n",
       "      <td>0.000647</td>\n",
       "      <td>0.000521</td>\n",
       "      <td>0.000197</td>\n",
       "      <td>0.000996</td>\n",
       "      <td>0.000436</td>\n",
       "      <td>0.000272</td>\n",
       "      <td>0.002819</td>\n",
       "      <td>0.004257</td>\n",
       "    </tr>\n",
       "    <tr>\n",
       "      <th>2</th>\n",
       "      <td>Even perfect people are taught to practice imp...</td>\n",
       "      <td>0.504212</td>\n",
       "      <td>0.001017</td>\n",
       "      <td>0.027263</td>\n",
       "      <td>0.470518</td>\n",
       "      <td>0.000994</td>\n",
       "      <td>0.083333</td>\n",
       "      <td>0.000661</td>\n",
       "      <td>0.002070</td>\n",
       "      <td>0.005194</td>\n",
       "      <td>...</td>\n",
       "      <td>0.001278</td>\n",
       "      <td>0.000393</td>\n",
       "      <td>0.000865</td>\n",
       "      <td>0.000670</td>\n",
       "      <td>0.000667</td>\n",
       "      <td>0.001582</td>\n",
       "      <td>0.000770</td>\n",
       "      <td>0.000289</td>\n",
       "      <td>0.001860</td>\n",
       "      <td>0.000787</td>\n",
       "    </tr>\n",
       "    <tr>\n",
       "      <th>3</th>\n",
       "      <td>The greater your capacity to love, the greater...</td>\n",
       "      <td>0.117630</td>\n",
       "      <td>0.004652</td>\n",
       "      <td>0.086096</td>\n",
       "      <td>0.257871</td>\n",
       "      <td>0.624151</td>\n",
       "      <td>0.005423</td>\n",
       "      <td>0.004657</td>\n",
       "      <td>0.001747</td>\n",
       "      <td>0.001964</td>\n",
       "      <td>...</td>\n",
       "      <td>0.002435</td>\n",
       "      <td>0.000789</td>\n",
       "      <td>0.000562</td>\n",
       "      <td>0.001219</td>\n",
       "      <td>0.000287</td>\n",
       "      <td>0.001302</td>\n",
       "      <td>0.001472</td>\n",
       "      <td>0.000836</td>\n",
       "      <td>0.001301</td>\n",
       "      <td>0.003115</td>\n",
       "    </tr>\n",
       "    <tr>\n",
       "      <th>4</th>\n",
       "      <td>We Turks are faithful muslims.</td>\n",
       "      <td>0.518282</td>\n",
       "      <td>0.003658</td>\n",
       "      <td>0.078999</td>\n",
       "      <td>0.451111</td>\n",
       "      <td>0.015094</td>\n",
       "      <td>0.009923</td>\n",
       "      <td>0.001890</td>\n",
       "      <td>0.003085</td>\n",
       "      <td>0.001970</td>\n",
       "      <td>...</td>\n",
       "      <td>0.001889</td>\n",
       "      <td>0.000417</td>\n",
       "      <td>0.000230</td>\n",
       "      <td>0.000739</td>\n",
       "      <td>0.000291</td>\n",
       "      <td>0.001066</td>\n",
       "      <td>0.000469</td>\n",
       "      <td>0.000277</td>\n",
       "      <td>0.000670</td>\n",
       "      <td>0.000586</td>\n",
       "    </tr>\n",
       "  </tbody>\n",
       "</table>\n",
       "<p>5 rows × 29 columns</p>\n",
       "</div>"
      ],
      "text/plain": [
       "                                                Text   neutral       joy  \\\n",
       "0      Mimì never forgets to see the beauty in life.  0.551236  0.187882   \n",
       "1  I will choose the bad guy in every story, I am...  0.302971  0.004391   \n",
       "2  Even perfect people are taught to practice imp...  0.504212  0.001017   \n",
       "3  The greater your capacity to love, the greater...  0.117630  0.004652   \n",
       "4                     We Turks are faithful muslims.  0.518282  0.003658   \n",
       "\n",
       "   admiration  approval      love  realization  excitement     pride  \\\n",
       "0    0.069275  0.042249  0.042008     0.014933    0.009515  0.009458   \n",
       "1    0.020285  0.445553  0.156137     0.009212    0.011000  0.000714   \n",
       "2    0.027263  0.470518  0.000994     0.083333    0.000661  0.002070   \n",
       "3    0.086096  0.257871  0.624151     0.005423    0.004657  0.001747   \n",
       "4    0.078999  0.451111  0.015094     0.009923    0.001890  0.003085   \n",
       "\n",
       "   disappointment  ...     anger     grief  surprise   remorse  embarrassment  \\\n",
       "0        0.008158  ...  0.002037  0.001676  0.001652  0.001333       0.001197   \n",
       "1        0.001421  ...  0.001112  0.000202  0.000647  0.000521       0.000197   \n",
       "2        0.005194  ...  0.001278  0.000393  0.000865  0.000670       0.000667   \n",
       "3        0.001964  ...  0.002435  0.000789  0.000562  0.001219       0.000287   \n",
       "4        0.001970  ...  0.001889  0.000417  0.000230  0.000739       0.000291   \n",
       "\n",
       "    disgust      fear  nervousness  confusion  curiosity  \n",
       "0  0.001169  0.000561     0.000509   0.000431   0.000287  \n",
       "1  0.000996  0.000436     0.000272   0.002819   0.004257  \n",
       "2  0.001582  0.000770     0.000289   0.001860   0.000787  \n",
       "3  0.001302  0.001472     0.000836   0.001301   0.003115  \n",
       "4  0.001066  0.000469     0.000277   0.000670   0.000586  \n",
       "\n",
       "[5 rows x 29 columns]"
      ]
     },
     "execution_count": 8,
     "metadata": {},
     "output_type": "execute_result"
    }
   ],
   "source": [
    "data = []\n",
    "\n",
    "for i, text in enumerate(quotes):\n",
    "    labels = reddit_outputs[i]\n",
    "    data.append({\"Text\": text, \"Labels\": labels})\n",
    "\n",
    "df = pd.DataFrame(data)\n",
    "df = pd.concat([df.drop(['Labels'], axis=1), df['Labels'].apply(lambda x: pd.Series({d['label']: d['score'] for d in x}))], axis=1)\n",
    "df.to_csv('../data/quotes_labeled_reddit.csv')\n",
    "df.head()"
   ]
  },
  {
   "cell_type": "code",
   "execution_count": 9,
   "metadata": {},
   "outputs": [
    {
     "data": {
      "text/html": [
       "<div>\n",
       "<style scoped>\n",
       "    .dataframe tbody tr th:only-of-type {\n",
       "        vertical-align: middle;\n",
       "    }\n",
       "\n",
       "    .dataframe tbody tr th {\n",
       "        vertical-align: top;\n",
       "    }\n",
       "\n",
       "    .dataframe thead th {\n",
       "        text-align: right;\n",
       "    }\n",
       "</style>\n",
       "<table border=\"1\" class=\"dataframe\">\n",
       "  <thead>\n",
       "    <tr style=\"text-align: right;\">\n",
       "      <th></th>\n",
       "      <th>Text</th>\n",
       "      <th>joy</th>\n",
       "      <th>optimism</th>\n",
       "      <th>love</th>\n",
       "      <th>trust</th>\n",
       "      <th>anticipation</th>\n",
       "      <th>surprise</th>\n",
       "      <th>sadness</th>\n",
       "      <th>anger</th>\n",
       "      <th>fear</th>\n",
       "      <th>pessimism</th>\n",
       "      <th>disgust</th>\n",
       "    </tr>\n",
       "  </thead>\n",
       "  <tbody>\n",
       "    <tr>\n",
       "      <th>0</th>\n",
       "      <td>Mimì never forgets to see the beauty in life.</td>\n",
       "      <td>0.972621</td>\n",
       "      <td>0.955966</td>\n",
       "      <td>0.252860</td>\n",
       "      <td>0.186926</td>\n",
       "      <td>0.088061</td>\n",
       "      <td>0.020535</td>\n",
       "      <td>0.019661</td>\n",
       "      <td>0.013404</td>\n",
       "      <td>0.010004</td>\n",
       "      <td>0.009349</td>\n",
       "      <td>0.009063</td>\n",
       "    </tr>\n",
       "    <tr>\n",
       "      <th>1</th>\n",
       "      <td>I will choose the bad guy in every story, I am...</td>\n",
       "      <td>0.432263</td>\n",
       "      <td>0.182680</td>\n",
       "      <td>0.017735</td>\n",
       "      <td>0.039188</td>\n",
       "      <td>0.468004</td>\n",
       "      <td>0.076278</td>\n",
       "      <td>0.117896</td>\n",
       "      <td>0.324329</td>\n",
       "      <td>0.013707</td>\n",
       "      <td>0.052153</td>\n",
       "      <td>0.289034</td>\n",
       "    </tr>\n",
       "    <tr>\n",
       "      <th>2</th>\n",
       "      <td>Even perfect people are taught to practice imp...</td>\n",
       "      <td>0.279523</td>\n",
       "      <td>0.964898</td>\n",
       "      <td>0.023926</td>\n",
       "      <td>0.327473</td>\n",
       "      <td>0.297890</td>\n",
       "      <td>0.013842</td>\n",
       "      <td>0.050638</td>\n",
       "      <td>0.052246</td>\n",
       "      <td>0.034360</td>\n",
       "      <td>0.047976</td>\n",
       "      <td>0.032269</td>\n",
       "    </tr>\n",
       "    <tr>\n",
       "      <th>3</th>\n",
       "      <td>The greater your capacity to love, the greater...</td>\n",
       "      <td>0.638612</td>\n",
       "      <td>0.954312</td>\n",
       "      <td>0.268109</td>\n",
       "      <td>0.298792</td>\n",
       "      <td>0.075400</td>\n",
       "      <td>0.011760</td>\n",
       "      <td>0.525660</td>\n",
       "      <td>0.014589</td>\n",
       "      <td>0.028185</td>\n",
       "      <td>0.095590</td>\n",
       "      <td>0.018828</td>\n",
       "    </tr>\n",
       "    <tr>\n",
       "      <th>4</th>\n",
       "      <td>We Turks are faithful muslims.</td>\n",
       "      <td>0.784391</td>\n",
       "      <td>0.886285</td>\n",
       "      <td>0.134748</td>\n",
       "      <td>0.251011</td>\n",
       "      <td>0.189155</td>\n",
       "      <td>0.020770</td>\n",
       "      <td>0.018143</td>\n",
       "      <td>0.041946</td>\n",
       "      <td>0.011825</td>\n",
       "      <td>0.012962</td>\n",
       "      <td>0.018318</td>\n",
       "    </tr>\n",
       "  </tbody>\n",
       "</table>\n",
       "</div>"
      ],
      "text/plain": [
       "                                                Text       joy  optimism  \\\n",
       "0      Mimì never forgets to see the beauty in life.  0.972621  0.955966   \n",
       "1  I will choose the bad guy in every story, I am...  0.432263  0.182680   \n",
       "2  Even perfect people are taught to practice imp...  0.279523  0.964898   \n",
       "3  The greater your capacity to love, the greater...  0.638612  0.954312   \n",
       "4                     We Turks are faithful muslims.  0.784391  0.886285   \n",
       "\n",
       "       love     trust  anticipation  surprise   sadness     anger      fear  \\\n",
       "0  0.252860  0.186926      0.088061  0.020535  0.019661  0.013404  0.010004   \n",
       "1  0.017735  0.039188      0.468004  0.076278  0.117896  0.324329  0.013707   \n",
       "2  0.023926  0.327473      0.297890  0.013842  0.050638  0.052246  0.034360   \n",
       "3  0.268109  0.298792      0.075400  0.011760  0.525660  0.014589  0.028185   \n",
       "4  0.134748  0.251011      0.189155  0.020770  0.018143  0.041946  0.011825   \n",
       "\n",
       "   pessimism   disgust  \n",
       "0   0.009349  0.009063  \n",
       "1   0.052153  0.289034  \n",
       "2   0.047976  0.032269  \n",
       "3   0.095590  0.018828  \n",
       "4   0.012962  0.018318  "
      ]
     },
     "execution_count": 9,
     "metadata": {},
     "output_type": "execute_result"
    }
   ],
   "source": [
    "data = []\n",
    "\n",
    "for i, text in enumerate(quotes):\n",
    "    labels = twitter_outputs[i]\n",
    "    data.append({\"Text\": text, \"Labels\": labels})\n",
    "\n",
    "df = pd.DataFrame(data)\n",
    "df = pd.concat([df.drop(['Labels'], axis=1), df['Labels'].apply(lambda x: pd.Series({d['label']: d['score'] for d in x}))], axis=1)\n",
    "df.to_csv('../data/quotes_labeled_twitter.csv')\n",
    "df.head()"
   ]
  },
  {
   "cell_type": "markdown",
   "metadata": {
    "collapsed": false
   },
   "source": [
    "### 1.1. Dataset preprocessing\n",
    "We have to remove the columns that we don't need for our task and split the tags column into a set of tags."
   ]
  },
  {
   "cell_type": "code",
   "execution_count": 2,
   "metadata": {
    "ExecuteTime": {
     "end_time": "2023-11-13T18:58:33.539402Z",
     "start_time": "2023-11-13T18:58:33.530613Z"
    },
    "collapsed": false
   },
   "outputs": [],
   "source": [
    "df = df[['Quote', 'Tags']]\n",
    "df[\"Tags\"] = df[\"Tags\"].apply(lambda x: {e.strip().lower() for e in x.split(\",\")} if isinstance(x, str) else [])"
   ]
  },
  {
   "cell_type": "markdown",
   "metadata": {
    "collapsed": false
   },
   "source": [
    "### 1.2. Add tags from the GoEmotions dataset to the quotes dataset\n",
    "It is necessary to add tags from the GoEmotions dataset to the quotes dataset, because we will use the model fine-tuned on GoEmotions dataset.\n",
    "\n",
    "Here we will use the model [SamLowe/roberta-base-go_emotions](https://huggingface.co/SamLowe/roberta-base-go_emotions) model."
   ]
  },
  {
   "cell_type": "markdown",
   "metadata": {
    "collapsed": false
   },
   "source": [
    "#### 1.2.1. Use RoBERTa model to predict tags on quote text\n",
    "Get the tags from the model (with threshold = 0.2) and filter them using cleaned tag set."
   ]
  },
  {
   "cell_type": "code",
   "execution_count": 4,
   "metadata": {
    "ExecuteTime": {
     "end_time": "2023-11-13T18:27:15.449476Z",
     "start_time": "2023-11-13T18:27:12.104219Z"
    },
    "collapsed": false
   },
   "outputs": [],
   "source": [
    "from transformers import pipeline\n",
    "pipe = pipeline(\"text-classification\", model=\"SamLowe/roberta-base-go_emotions\")"
   ]
  },
  {
   "cell_type": "code",
   "execution_count": 6,
   "metadata": {
    "ExecuteTime": {
     "end_time": "2023-11-13T18:29:04.966417Z",
     "start_time": "2023-11-13T18:29:04.963073Z"
    },
    "collapsed": false
   },
   "outputs": [],
   "source": [
    "# Filtered tag set for quotes from the go emotions\n",
    "my_set =  {'admiration',\n",
    "           'amusement',\n",
    "           'anger',\n",
    "           'annoyance',\n",
    "           'confusion',\n",
    "           'curiosity',\n",
    "           'desire',\n",
    "           'disappointment',\n",
    "           'disgust',\n",
    "           'embarrassment',\n",
    "           'excitement',\n",
    "           'fear',\n",
    "           'gratitude',\n",
    "           'grief',\n",
    "           'joy',\n",
    "           'love',\n",
    "           'nervousness',\n",
    "           'optimism',\n",
    "           'pride',\n",
    "           'realization',\n",
    "           'relief',\n",
    "           'remorse',\n",
    "           'sadness',\n",
    "           'surprise'}"
   ]
  },
  {
   "cell_type": "code",
   "execution_count": 5,
   "metadata": {
    "ExecuteTime": {
     "start_time": "2023-11-13T18:27:24.242878Z"
    },
    "collapsed": false
   },
   "outputs": [],
   "source": [
    "tags = pipe(list(df[\"Quote\"]), truncation=True, top_k=None)"
   ]
  },
  {
   "cell_type": "code",
   "execution_count": 7,
   "metadata": {
    "ExecuteTime": {
     "end_time": "2023-11-13T18:29:19.772107Z",
     "start_time": "2023-11-13T18:29:19.768706Z"
    },
    "collapsed": false
   },
   "outputs": [],
   "source": [
    "df[\"model_tags\"] = [{tag[\"label\"] for tag in quote if tag[\"score\"] > 0.2 and tag[\"label\"] in my_set} for quote in tags]"
   ]
  },
  {
   "cell_type": "markdown",
   "metadata": {
    "collapsed": false
   },
   "source": [
    "#### 1.2.2. Add tags from the quotes dataset intersection with the GoEmotions dataset"
   ]
  },
  {
   "cell_type": "code",
   "execution_count": 9,
   "metadata": {
    "ExecuteTime": {
     "end_time": "2023-11-13T18:33:42.363260Z",
     "start_time": "2023-11-13T18:33:42.357912Z"
    },
    "collapsed": false
   },
   "outputs": [],
   "source": [
    "df[\"ds_tags\"] = df[\"Tags\"].apply(lambda x: my_set.intersection(x))"
   ]
  },
  {
   "cell_type": "code",
   "execution_count": 10,
   "metadata": {
    "ExecuteTime": {
     "end_time": "2023-11-13T18:33:45.834463Z",
     "start_time": "2023-11-13T18:33:45.831313Z"
    },
    "collapsed": false
   },
   "outputs": [
    {
     "data": {
      "text/html": [
       "<div>\n",
       "<style scoped>\n",
       "    .dataframe tbody tr th:only-of-type {\n",
       "        vertical-align: middle;\n",
       "    }\n",
       "\n",
       "    .dataframe tbody tr th {\n",
       "        vertical-align: top;\n",
       "    }\n",
       "\n",
       "    .dataframe thead th {\n",
       "        text-align: right;\n",
       "    }\n",
       "</style>\n",
       "<table border=\"1\" class=\"dataframe\">\n",
       "  <thead>\n",
       "    <tr style=\"text-align: right;\">\n",
       "      <th></th>\n",
       "      <th>Quote</th>\n",
       "      <th>Tags</th>\n",
       "      <th>model_tags</th>\n",
       "      <th>ds_tags</th>\n",
       "    </tr>\n",
       "  </thead>\n",
       "  <tbody>\n",
       "    <tr>\n",
       "      <th>0</th>\n",
       "      <td>Mimì never forgets to see the beauty in life.</td>\n",
       "      <td>{beauty, life, forgetting}</td>\n",
       "      <td>{}</td>\n",
       "      <td>{}</td>\n",
       "    </tr>\n",
       "    <tr>\n",
       "      <th>1</th>\n",
       "      <td>I will choose the bad guy in every story, I am...</td>\n",
       "      <td>{attraction, story, choosing, guy}</td>\n",
       "      <td>{}</td>\n",
       "      <td>{}</td>\n",
       "    </tr>\n",
       "    <tr>\n",
       "      <th>2</th>\n",
       "      <td>Even perfect people are taught to practice imp...</td>\n",
       "      <td>{people, still, evening, society, practice, pe...</td>\n",
       "      <td>{}</td>\n",
       "      <td>{}</td>\n",
       "    </tr>\n",
       "    <tr>\n",
       "      <th>3</th>\n",
       "      <td>The greater your capacity to love, the greater...</td>\n",
       "      <td>{pain, feeling, capacity, love, feel}</td>\n",
       "      <td>{love}</td>\n",
       "      <td>{love}</td>\n",
       "    </tr>\n",
       "    <tr>\n",
       "      <th>4</th>\n",
       "      <td>We Turks are faithful muslims.</td>\n",
       "      <td>{faithful, faith}</td>\n",
       "      <td>{}</td>\n",
       "      <td>{}</td>\n",
       "    </tr>\n",
       "    <tr>\n",
       "      <th>...</th>\n",
       "      <td>...</td>\n",
       "      <td>...</td>\n",
       "      <td>...</td>\n",
       "      <td>...</td>\n",
       "    </tr>\n",
       "    <tr>\n",
       "      <th>847</th>\n",
       "      <td>Your eyes show the strength of your soul.</td>\n",
       "      <td>{soul, show, eye, strength}</td>\n",
       "      <td>{admiration}</td>\n",
       "      <td>{}</td>\n",
       "    </tr>\n",
       "    <tr>\n",
       "      <th>848</th>\n",
       "      <td>Sometimes it is the people no one can imagine ...</td>\n",
       "      <td>{people, doing, imagination, thing, anything}</td>\n",
       "      <td>{}</td>\n",
       "      <td>{}</td>\n",
       "    </tr>\n",
       "    <tr>\n",
       "      <th>849</th>\n",
       "      <td>A prophet is nothing without a new revelation.</td>\n",
       "      <td>{prophet, revelation, news, nothing}</td>\n",
       "      <td>{}</td>\n",
       "      <td>{}</td>\n",
       "    </tr>\n",
       "    <tr>\n",
       "      <th>850</th>\n",
       "      <td>I’m not mad. I’m in a perfectly happy mood, yo...</td>\n",
       "      <td>{happiness, madness, mood}</td>\n",
       "      <td>{joy, annoyance}</td>\n",
       "      <td>{}</td>\n",
       "    </tr>\n",
       "    <tr>\n",
       "      <th>851</th>\n",
       "      <td>We cannot underestimate the power of love in o...</td>\n",
       "      <td>{understanding, power, feeling, love, underest...</td>\n",
       "      <td>{love}</td>\n",
       "      <td>{love}</td>\n",
       "    </tr>\n",
       "  </tbody>\n",
       "</table>\n",
       "<p>852 rows × 4 columns</p>\n",
       "</div>"
      ],
      "text/plain": [
       "                                                 Quote  \\\n",
       "0        Mimì never forgets to see the beauty in life.   \n",
       "1    I will choose the bad guy in every story, I am...   \n",
       "2    Even perfect people are taught to practice imp...   \n",
       "3    The greater your capacity to love, the greater...   \n",
       "4                       We Turks are faithful muslims.   \n",
       "..                                                 ...   \n",
       "847          Your eyes show the strength of your soul.   \n",
       "848  Sometimes it is the people no one can imagine ...   \n",
       "849     A prophet is nothing without a new revelation.   \n",
       "850  I’m not mad. I’m in a perfectly happy mood, yo...   \n",
       "851  We cannot underestimate the power of love in o...   \n",
       "\n",
       "                                                  Tags        model_tags  \\\n",
       "0                           {beauty, life, forgetting}                {}   \n",
       "1                   {attraction, story, choosing, guy}                {}   \n",
       "2    {people, still, evening, society, practice, pe...                {}   \n",
       "3                {pain, feeling, capacity, love, feel}            {love}   \n",
       "4                                    {faithful, faith}                {}   \n",
       "..                                                 ...               ...   \n",
       "847                        {soul, show, eye, strength}      {admiration}   \n",
       "848      {people, doing, imagination, thing, anything}                {}   \n",
       "849               {prophet, revelation, news, nothing}                {}   \n",
       "850                         {happiness, madness, mood}  {joy, annoyance}   \n",
       "851  {understanding, power, feeling, love, underest...            {love}   \n",
       "\n",
       "    ds_tags  \n",
       "0        {}  \n",
       "1        {}  \n",
       "2        {}  \n",
       "3    {love}  \n",
       "4        {}  \n",
       "..      ...  \n",
       "847      {}  \n",
       "848      {}  \n",
       "849      {}  \n",
       "850      {}  \n",
       "851  {love}  \n",
       "\n",
       "[852 rows x 4 columns]"
      ]
     },
     "execution_count": 10,
     "metadata": {},
     "output_type": "execute_result"
    }
   ],
   "source": [
    "df"
   ]
  },
  {
   "cell_type": "markdown",
   "metadata": {
    "collapsed": false
   },
   "source": [
    "#### 1.2.3. Use `fasttext` embeddings to find similar tags"
   ]
  },
  {
   "cell_type": "code",
   "execution_count": 11,
   "metadata": {
    "ExecuteTime": {
     "end_time": "2023-11-13T18:36:00.968646Z",
     "start_time": "2023-11-13T18:35:55.247320Z"
    },
    "collapsed": false
   },
   "outputs": [
    {
     "name": "stderr",
     "output_type": "stream",
     "text": [
      "Warning : `load_model` does not return WordVectorModel or SupervisedModel any more, but a `FastText` object which is very similar.\n"
     ]
    }
   ],
   "source": [
    "import fasttext\n",
    "from sklearn.metrics.pairwise import cosine_similarity\n",
    "\n",
    "\n",
    "ft = fasttext.load_model('cc.en.300.bin')"
   ]
  },
  {
   "cell_type": "code",
   "execution_count": 12,
   "metadata": {
    "ExecuteTime": {
     "end_time": "2023-11-13T18:36:42.933535Z",
     "start_time": "2023-11-13T18:36:42.929430Z"
    },
    "collapsed": false
   },
   "outputs": [],
   "source": [
    "my_set_embed = [ft.get_word_vector(e) for e in my_set]"
   ]
  },
  {
   "cell_type": "code",
   "execution_count": 13,
   "metadata": {
    "ExecuteTime": {
     "end_time": "2023-11-13T18:36:50.118007Z",
     "start_time": "2023-11-13T18:36:44.658830Z"
    },
    "collapsed": false
   },
   "outputs": [
    {
     "data": {
      "application/vnd.jupyter.widget-view+json": {
       "model_id": "0152f2af206f4a8b901c57ae0073494d",
       "version_major": 2,
       "version_minor": 0
      },
      "text/plain": [
       "  0%|          | 0/1650 [00:00<?, ?it/s]"
      ]
     },
     "metadata": {},
     "output_type": "display_data"
    }
   ],
   "source": [
    "from tqdm.notebook import tqdm\n",
    "\n",
    "\n",
    "all_ds_tags = set(df[\"Tags\"].explode().value_counts().keys())\n",
    "tag_to_tag = {}\n",
    "\n",
    "for e in tqdm(all_ds_tags):\n",
    "    for w, emb in zip(my_set, my_set_embed):\n",
    "        if cosine_similarity([ft.get_word_vector(e)], [emb])[0][0] > 0.5:\n",
    "            tag_to_tag[e] = w"
   ]
  },
  {
   "cell_type": "markdown",
   "metadata": {
    "collapsed": false
   },
   "source": [
    "Clean pairs of tags by hand."
   ]
  },
  {
   "cell_type": "code",
   "execution_count": 14,
   "metadata": {
    "ExecuteTime": {
     "end_time": "2023-11-13T18:37:22.629326Z",
     "start_time": "2023-11-13T18:37:22.621692Z"
    },
    "collapsed": false
   },
   "outputs": [
    {
     "data": {
      "text/plain": [
       "{'gratitude': 'admiration',\n",
       " 'amazement': 'admiration',\n",
       " 'appetite': 'desire',\n",
       " 'worry': 'fear',\n",
       " 'agony': 'grief',\n",
       " 'concern': 'annoyance',\n",
       " 'imagination': 'curiosity',\n",
       " 'apprehension': 'excitement',\n",
       " 'lov': 'love',\n",
       " 'confusion': 'confusion',\n",
       " 'realization': 'realization',\n",
       " 'tragedy': 'grief',\n",
       " 'joy': 'love',\n",
       " 'anxiety': 'grief',\n",
       " 'pain': 'grief',\n",
       " 'praise': 'admiration',\n",
       " 'acknowledgment': 'gratitude',\n",
       " 'happiness': 'optimism',\n",
       " 'intention': 'desire',\n",
       " 'desire': 'desire',\n",
       " 'self-confidence': 'optimism',\n",
       " 'fear': 'fear',\n",
       " 'regret': 'remorse',\n",
       " 'aid': 'relief',\n",
       " 'laughter': 'excitement',\n",
       " 'loneliness': 'grief',\n",
       " 'pleasure': 'joy',\n",
       " 'sadness': 'excitement',\n",
       " 'embarrassment': 'disgust',\n",
       " 'encouragement': 'gratitude',\n",
       " 'excitement': 'excitement',\n",
       " 'awe': 'admiration',\n",
       " 'rage': 'disgust',\n",
       " 'selfishness': 'anger',\n",
       " 'pride': 'pride',\n",
       " 'confidence': 'optimism',\n",
       " 'hatred': 'admiration',\n",
       " 'jealousy': 'admiration',\n",
       " 'admire': 'admiration',\n",
       " 'danger': 'fear',\n",
       " 'shame': 'disgust',\n",
       " 'delight': 'excitement',\n",
       " 'disappointment': 'excitement',\n",
       " 'optimist': 'optimism',\n",
       " 'feeling': 'sadness',\n",
       " 'passion': 'admiration',\n",
       " 'love': 'love',\n",
       " 'emotion': 'excitement',\n",
       " 'hate': 'love',\n",
       " 'kindness': 'gratitude',\n",
       " 'appreciation': 'admiration',\n",
       " 'sorrow': 'grief',\n",
       " 'interest': 'curiosity',\n",
       " 'respect': 'admiration',\n",
       " 'want': 'desire'}"
      ]
     },
     "execution_count": 14,
     "metadata": {},
     "output_type": "execute_result"
    }
   ],
   "source": [
    "tag_to_tag"
   ]
  },
  {
   "cell_type": "code",
   "execution_count": 15,
   "metadata": {
    "ExecuteTime": {
     "end_time": "2023-11-13T18:37:23.995631Z",
     "start_time": "2023-11-13T18:37:23.993161Z"
    },
    "collapsed": false
   },
   "outputs": [],
   "source": [
    "cleaned_tag2tag = {'encouragement': 'gratitude',\n",
    " 'danger': 'fear',\n",
    " 'intention': 'desire',\n",
    " 'regret': 'sadness',\n",
    " 'disappointment': 'sadness',\n",
    " 'rage': 'disgust',\n",
    " 'appetite': 'desire',\n",
    " 'agony': 'sadness',\n",
    " 'optimist': 'optimism',\n",
    " 'kindness': 'gratitude',\n",
    " 'pleasure': 'joy',\n",
    " 'pride': 'joy',\n",
    " 'imagination': 'curiosity',\n",
    " 'amazement': 'disgust',\n",
    " 'awe': 'admiration',\n",
    " 'happiness': 'optimism',\n",
    " 'acknowledgment': 'gratitude',\n",
    " 'loneliness': 'sadness',\n",
    " 'delight': 'joy',\n",
    " 'admire': 'admiration',\n",
    " 'sorrow': 'sadness',\n",
    " 'laughter': 'joy',\n",
    " 'hatred': 'disgust',\n",
    " 'want': 'desire',\n",
    " 'respect': 'admiration',\n",
    " 'worry': 'fear',\n",
    " 'pain': 'sadness',\n",
    " 'lov': 'love',\n",
    " 'apprehension': 'nervousness',\n",
    " 'tragedy': 'sadness',\n",
    " 'aid': 'relief',\n",
    " 'love': 'joy',\n",
    " 'confidence': 'optimism',\n",
    " 'realization': 'realization',\n",
    " 'praise': 'admiration',\n",
    " 'anxiety': 'sadness',\n",
    " 'interest': 'curiosity',\n",
    " 'confusion': 'nervousness'}"
   ]
  },
  {
   "cell_type": "markdown",
   "metadata": {
    "collapsed": false
   },
   "source": [
    "Add to the dataset"
   ]
  },
  {
   "cell_type": "code",
   "execution_count": 16,
   "metadata": {
    "ExecuteTime": {
     "end_time": "2023-11-13T18:37:36.891555Z",
     "start_time": "2023-11-13T18:37:36.887095Z"
    },
    "collapsed": false
   },
   "outputs": [],
   "source": [
    "df[\"tag2tag\"] = df[\"Tags\"].apply(lambda x: {cleaned_tag2tag[e] for e in x if e in cleaned_tag2tag})"
   ]
  },
  {
   "cell_type": "markdown",
   "metadata": {
    "collapsed": false
   },
   "source": [
    "#### 1.2.4. Use RoBERTa model to predict mapping of tags"
   ]
  },
  {
   "cell_type": "code",
   "execution_count": null,
   "metadata": {
    "collapsed": false
   },
   "outputs": [],
   "source": [
    "tags = []\n",
    "for e in tqdm(all_ds_tags):\n",
    "    tags.append(pipe(e, truncation=True, top_k=None))"
   ]
  },
  {
   "cell_type": "code",
   "execution_count": 17,
   "metadata": {
    "ExecuteTime": {
     "end_time": "2023-11-13T18:40:38.732303Z",
     "start_time": "2023-11-13T18:40:38.727941Z"
    },
    "collapsed": false
   },
   "outputs": [],
   "source": [
    "postpr = [{tag[\"label\"] for tag in quote if tag[\"score\"] > 0.1 and tag[\"label\"] in my_set} for quote in tags]\n",
    "tag_to_tags = {tag: tags for tag, tags in zip(all_ds_tags, postpr) if len(tags) != 0}"
   ]
  },
  {
   "cell_type": "code",
   "execution_count": 18,
   "metadata": {
    "ExecuteTime": {
     "end_time": "2023-11-13T18:40:48.851196Z",
     "start_time": "2023-11-13T18:40:48.845146Z"
    },
    "collapsed": false
   },
   "outputs": [],
   "source": [
    "df[\"tag2tag_by_model\"] = df[\"Tags\"].apply(lambda x: {tt for e in x if e in tag_to_tags for tt in tag_to_tags[e] if tt in my_set})"
   ]
  },
  {
   "cell_type": "code",
   "execution_count": 19,
   "metadata": {
    "ExecuteTime": {
     "end_time": "2023-11-13T18:40:58.720234Z",
     "start_time": "2023-11-13T18:40:58.716805Z"
    },
    "collapsed": false
   },
   "outputs": [
    {
     "data": {
      "text/html": [
       "<div>\n",
       "<style scoped>\n",
       "    .dataframe tbody tr th:only-of-type {\n",
       "        vertical-align: middle;\n",
       "    }\n",
       "\n",
       "    .dataframe tbody tr th {\n",
       "        vertical-align: top;\n",
       "    }\n",
       "\n",
       "    .dataframe thead th {\n",
       "        text-align: right;\n",
       "    }\n",
       "</style>\n",
       "<table border=\"1\" class=\"dataframe\">\n",
       "  <thead>\n",
       "    <tr style=\"text-align: right;\">\n",
       "      <th></th>\n",
       "      <th>Quote</th>\n",
       "      <th>Tags</th>\n",
       "      <th>model_tags</th>\n",
       "      <th>ds_tags</th>\n",
       "      <th>tag2tag</th>\n",
       "      <th>tag2tag_by_model</th>\n",
       "    </tr>\n",
       "  </thead>\n",
       "  <tbody>\n",
       "    <tr>\n",
       "      <th>0</th>\n",
       "      <td>Mimì never forgets to see the beauty in life.</td>\n",
       "      <td>{beauty, life, forgetting}</td>\n",
       "      <td>{}</td>\n",
       "      <td>{}</td>\n",
       "      <td>{}</td>\n",
       "      <td>{}</td>\n",
       "    </tr>\n",
       "    <tr>\n",
       "      <th>1</th>\n",
       "      <td>I will choose the bad guy in every story, I am...</td>\n",
       "      <td>{attraction, story, choosing, guy}</td>\n",
       "      <td>{}</td>\n",
       "      <td>{}</td>\n",
       "      <td>{}</td>\n",
       "      <td>{confusion, realization, curiosity}</td>\n",
       "    </tr>\n",
       "    <tr>\n",
       "      <th>2</th>\n",
       "      <td>Even perfect people are taught to practice imp...</td>\n",
       "      <td>{people, still, evening, society, practice, pe...</td>\n",
       "      <td>{}</td>\n",
       "      <td>{}</td>\n",
       "      <td>{}</td>\n",
       "      <td>{fear, curiosity, disappointment, love, annoya...</td>\n",
       "    </tr>\n",
       "    <tr>\n",
       "      <th>3</th>\n",
       "      <td>The greater your capacity to love, the greater...</td>\n",
       "      <td>{pain, feeling, capacity, love, feel}</td>\n",
       "      <td>{love}</td>\n",
       "      <td>{love}</td>\n",
       "      <td>{joy, sadness}</td>\n",
       "      <td>{confusion, realization, curiosity}</td>\n",
       "    </tr>\n",
       "    <tr>\n",
       "      <th>4</th>\n",
       "      <td>We Turks are faithful muslims.</td>\n",
       "      <td>{faithful, faith}</td>\n",
       "      <td>{}</td>\n",
       "      <td>{}</td>\n",
       "      <td>{}</td>\n",
       "      <td>{}</td>\n",
       "    </tr>\n",
       "    <tr>\n",
       "      <th>...</th>\n",
       "      <td>...</td>\n",
       "      <td>...</td>\n",
       "      <td>...</td>\n",
       "      <td>...</td>\n",
       "      <td>...</td>\n",
       "      <td>...</td>\n",
       "    </tr>\n",
       "    <tr>\n",
       "      <th>847</th>\n",
       "      <td>Your eyes show the strength of your soul.</td>\n",
       "      <td>{soul, show, eye, strength}</td>\n",
       "      <td>{admiration}</td>\n",
       "      <td>{}</td>\n",
       "      <td>{}</td>\n",
       "      <td>{love, sadness}</td>\n",
       "    </tr>\n",
       "    <tr>\n",
       "      <th>848</th>\n",
       "      <td>Sometimes it is the people no one can imagine ...</td>\n",
       "      <td>{people, doing, imagination, thing, anything}</td>\n",
       "      <td>{}</td>\n",
       "      <td>{}</td>\n",
       "      <td>{curiosity}</td>\n",
       "      <td>{love, sadness}</td>\n",
       "    </tr>\n",
       "    <tr>\n",
       "      <th>849</th>\n",
       "      <td>A prophet is nothing without a new revelation.</td>\n",
       "      <td>{prophet, revelation, news, nothing}</td>\n",
       "      <td>{}</td>\n",
       "      <td>{}</td>\n",
       "      <td>{}</td>\n",
       "      <td>{}</td>\n",
       "    </tr>\n",
       "    <tr>\n",
       "      <th>850</th>\n",
       "      <td>I’m not mad. I’m in a perfectly happy mood, yo...</td>\n",
       "      <td>{happiness, madness, mood}</td>\n",
       "      <td>{joy, annoyance}</td>\n",
       "      <td>{}</td>\n",
       "      <td>{optimism}</td>\n",
       "      <td>{fear, curiosity}</td>\n",
       "    </tr>\n",
       "    <tr>\n",
       "      <th>851</th>\n",
       "      <td>We cannot underestimate the power of love in o...</td>\n",
       "      <td>{understanding, power, feeling, love, underest...</td>\n",
       "      <td>{love}</td>\n",
       "      <td>{love}</td>\n",
       "      <td>{joy}</td>\n",
       "      <td>{confusion, love, curiosity}</td>\n",
       "    </tr>\n",
       "  </tbody>\n",
       "</table>\n",
       "<p>852 rows × 6 columns</p>\n",
       "</div>"
      ],
      "text/plain": [
       "                                                 Quote  \\\n",
       "0        Mimì never forgets to see the beauty in life.   \n",
       "1    I will choose the bad guy in every story, I am...   \n",
       "2    Even perfect people are taught to practice imp...   \n",
       "3    The greater your capacity to love, the greater...   \n",
       "4                       We Turks are faithful muslims.   \n",
       "..                                                 ...   \n",
       "847          Your eyes show the strength of your soul.   \n",
       "848  Sometimes it is the people no one can imagine ...   \n",
       "849     A prophet is nothing without a new revelation.   \n",
       "850  I’m not mad. I’m in a perfectly happy mood, yo...   \n",
       "851  We cannot underestimate the power of love in o...   \n",
       "\n",
       "                                                  Tags        model_tags  \\\n",
       "0                           {beauty, life, forgetting}                {}   \n",
       "1                   {attraction, story, choosing, guy}                {}   \n",
       "2    {people, still, evening, society, practice, pe...                {}   \n",
       "3                {pain, feeling, capacity, love, feel}            {love}   \n",
       "4                                    {faithful, faith}                {}   \n",
       "..                                                 ...               ...   \n",
       "847                        {soul, show, eye, strength}      {admiration}   \n",
       "848      {people, doing, imagination, thing, anything}                {}   \n",
       "849               {prophet, revelation, news, nothing}                {}   \n",
       "850                         {happiness, madness, mood}  {joy, annoyance}   \n",
       "851  {understanding, power, feeling, love, underest...            {love}   \n",
       "\n",
       "    ds_tags         tag2tag                                   tag2tag_by_model  \n",
       "0        {}              {}                                                 {}  \n",
       "1        {}              {}                {confusion, realization, curiosity}  \n",
       "2        {}              {}  {fear, curiosity, disappointment, love, annoya...  \n",
       "3    {love}  {joy, sadness}                {confusion, realization, curiosity}  \n",
       "4        {}              {}                                                 {}  \n",
       "..      ...             ...                                                ...  \n",
       "847      {}              {}                                    {love, sadness}  \n",
       "848      {}     {curiosity}                                    {love, sadness}  \n",
       "849      {}              {}                                                 {}  \n",
       "850      {}      {optimism}                                  {fear, curiosity}  \n",
       "851  {love}           {joy}                       {confusion, love, curiosity}  \n",
       "\n",
       "[852 rows x 6 columns]"
      ]
     },
     "execution_count": 19,
     "metadata": {},
     "output_type": "execute_result"
    }
   ],
   "source": [
    "df"
   ]
  },
  {
   "cell_type": "markdown",
   "metadata": {
    "collapsed": false
   },
   "source": [
    "#### 1.2.5. Combine all tags\n",
    "Combine all tags into one column and save the dataset."
   ]
  },
  {
   "cell_type": "code",
   "execution_count": 20,
   "metadata": {
    "ExecuteTime": {
     "end_time": "2023-11-13T18:41:20.796637Z",
     "start_time": "2023-11-13T18:41:20.791595Z"
    },
    "collapsed": false
   },
   "outputs": [],
   "source": [
    "df[\"all_tags\"] = df.apply(lambda x: x.model_tags.union(x.ds_tags).union(x.tag2tag).union(x.tag2tag_by_model), axis=1)"
   ]
  },
  {
   "cell_type": "code",
   "execution_count": 23,
   "metadata": {
    "ExecuteTime": {
     "end_time": "2023-11-13T18:42:40.157073Z",
     "start_time": "2023-11-13T18:42:40.149146Z"
    },
    "collapsed": false
   },
   "outputs": [],
   "source": [
    "# make str\n",
    "df[\"all_tags\"] = df[\"all_tags\"].apply(lambda x: \",\".join(x))"
   ]
  },
  {
   "cell_type": "code",
   "execution_count": 24,
   "metadata": {
    "ExecuteTime": {
     "end_time": "2023-11-13T18:42:40.589664Z",
     "start_time": "2023-11-13T18:42:40.583383Z"
    },
    "collapsed": false
   },
   "outputs": [],
   "source": [
    "df[['Quote', 'all_tags']].to_csv('../data/quotes_labeled_reddit.csv', index=False)"
   ]
  },
  {
   "cell_type": "markdown",
   "metadata": {
    "collapsed": false
   },
   "source": [
    "### 1.3. Add tags from the semeval dataset to the quotes dataset\n",
    "It is necessary to add tags from the go emotions dataset to the quotes dataset, because we will use the model fine-tuned on go emotions dataset.\n",
    "\n",
    "Here we will use the [twitter-roberta-base-emotion-multilabel-latest](https://huggingface.co/cardiffnlp/twitter-roberta-base-emotion-multilabel-latest) model."
   ]
  },
  {
   "cell_type": "markdown",
   "metadata": {
    "collapsed": false
   },
   "source": [
    "#### 1.3.1. Use RoBERTa model to predict tags on quote text\n",
    "Get the tags from the model (with threshold = 0.2) and filter them using cleaned tag set."
   ]
  },
  {
   "cell_type": "code",
   "execution_count": 3,
   "metadata": {
    "ExecuteTime": {
     "end_time": "2023-11-13T19:00:23.846523Z",
     "start_time": "2023-11-13T19:00:21.042630Z"
    },
    "collapsed": false
   },
   "outputs": [],
   "source": [
    "from transformers import pipeline\n",
    "pipe = pipeline(\"text-classification\", model=\"cardiffnlp/twitter-roberta-base-emotion-multilabel-latest\")"
   ]
  },
  {
   "cell_type": "code",
   "execution_count": 4,
   "metadata": {
    "ExecuteTime": {
     "end_time": "2023-11-13T19:00:25.401088Z",
     "start_time": "2023-11-13T19:00:25.393868Z"
    },
    "collapsed": false
   },
   "outputs": [],
   "source": [
    "my_set = set(pipe.model.config.label2id.keys())"
   ]
  },
  {
   "cell_type": "code",
   "execution_count": 5,
   "metadata": {
    "ExecuteTime": {
     "end_time": "2023-11-13T19:00:56.887333Z",
     "start_time": "2023-11-13T19:00:26.774725Z"
    },
    "collapsed": false
   },
   "outputs": [],
   "source": [
    "tags = pipe(list(df[\"Quote\"]), truncation=True, top_k=None)"
   ]
  },
  {
   "cell_type": "code",
   "execution_count": 11,
   "metadata": {
    "ExecuteTime": {
     "end_time": "2023-11-13T19:01:46.112305Z",
     "start_time": "2023-11-13T19:01:46.096348Z"
    },
    "collapsed": false
   },
   "outputs": [],
   "source": [
    "df[\"model_tags\"] = [{tag[\"label\"] for tag in quote if tag[\"score\"] > 0.4 and tag[\"label\"] in my_set} for quote in tags]"
   ]
  },
  {
   "cell_type": "markdown",
   "metadata": {
    "collapsed": false
   },
   "source": [
    "#### 1.3.2. Add tags from the quotes dataset intersection with the go emotions dataset"
   ]
  },
  {
   "cell_type": "code",
   "execution_count": 13,
   "metadata": {
    "ExecuteTime": {
     "end_time": "2023-11-13T19:02:03.674276Z",
     "start_time": "2023-11-13T19:02:03.659546Z"
    },
    "collapsed": false
   },
   "outputs": [],
   "source": [
    "df[\"ds_tags\"] = df[\"Tags\"].apply(lambda x: my_set.intersection(x))"
   ]
  },
  {
   "cell_type": "code",
   "execution_count": 14,
   "metadata": {
    "ExecuteTime": {
     "end_time": "2023-11-13T19:02:04.218024Z",
     "start_time": "2023-11-13T19:02:04.215038Z"
    },
    "collapsed": false
   },
   "outputs": [
    {
     "data": {
      "text/html": [
       "<div>\n",
       "<style scoped>\n",
       "    .dataframe tbody tr th:only-of-type {\n",
       "        vertical-align: middle;\n",
       "    }\n",
       "\n",
       "    .dataframe tbody tr th {\n",
       "        vertical-align: top;\n",
       "    }\n",
       "\n",
       "    .dataframe thead th {\n",
       "        text-align: right;\n",
       "    }\n",
       "</style>\n",
       "<table border=\"1\" class=\"dataframe\">\n",
       "  <thead>\n",
       "    <tr style=\"text-align: right;\">\n",
       "      <th></th>\n",
       "      <th>Quote</th>\n",
       "      <th>Tags</th>\n",
       "      <th>model_tags</th>\n",
       "      <th>ds_tags</th>\n",
       "    </tr>\n",
       "  </thead>\n",
       "  <tbody>\n",
       "    <tr>\n",
       "      <th>0</th>\n",
       "      <td>Mimì never forgets to see the beauty in life.</td>\n",
       "      <td>{beauty, life, forgetting}</td>\n",
       "      <td>{optimism, joy}</td>\n",
       "      <td>{}</td>\n",
       "    </tr>\n",
       "    <tr>\n",
       "      <th>1</th>\n",
       "      <td>I will choose the bad guy in every story, I am...</td>\n",
       "      <td>{choosing, story, guy, attraction}</td>\n",
       "      <td>{anticipation, joy}</td>\n",
       "      <td>{}</td>\n",
       "    </tr>\n",
       "    <tr>\n",
       "      <th>2</th>\n",
       "      <td>Even perfect people are taught to practice imp...</td>\n",
       "      <td>{fitness, evening, practice, society, perfecti...</td>\n",
       "      <td>{optimism}</td>\n",
       "      <td>{}</td>\n",
       "    </tr>\n",
       "    <tr>\n",
       "      <th>3</th>\n",
       "      <td>The greater your capacity to love, the greater...</td>\n",
       "      <td>{feel, feeling, pain, capacity, love}</td>\n",
       "      <td>{optimism, sadness, joy}</td>\n",
       "      <td>{love}</td>\n",
       "    </tr>\n",
       "    <tr>\n",
       "      <th>4</th>\n",
       "      <td>We Turks are faithful muslims.</td>\n",
       "      <td>{faith, faithful}</td>\n",
       "      <td>{optimism, joy}</td>\n",
       "      <td>{}</td>\n",
       "    </tr>\n",
       "    <tr>\n",
       "      <th>...</th>\n",
       "      <td>...</td>\n",
       "      <td>...</td>\n",
       "      <td>...</td>\n",
       "      <td>...</td>\n",
       "    </tr>\n",
       "    <tr>\n",
       "      <th>847</th>\n",
       "      <td>Your eyes show the strength of your soul.</td>\n",
       "      <td>{eye, soul, strength, show}</td>\n",
       "      <td>{trust, optimism, joy}</td>\n",
       "      <td>{}</td>\n",
       "    </tr>\n",
       "    <tr>\n",
       "      <th>848</th>\n",
       "      <td>Sometimes it is the people no one can imagine ...</td>\n",
       "      <td>{doing, anything, imagination, people, thing}</td>\n",
       "      <td>{optimism}</td>\n",
       "      <td>{}</td>\n",
       "    </tr>\n",
       "    <tr>\n",
       "      <th>849</th>\n",
       "      <td>A prophet is nothing without a new revelation.</td>\n",
       "      <td>{prophet, nothing, revelation, news}</td>\n",
       "      <td>{optimism, joy}</td>\n",
       "      <td>{}</td>\n",
       "    </tr>\n",
       "    <tr>\n",
       "      <th>850</th>\n",
       "      <td>I’m not mad. I’m in a perfectly happy mood, yo...</td>\n",
       "      <td>{mood, happiness, madness}</td>\n",
       "      <td>{anger, optimism, disgust, joy}</td>\n",
       "      <td>{}</td>\n",
       "    </tr>\n",
       "    <tr>\n",
       "      <th>851</th>\n",
       "      <td>We cannot underestimate the power of love in o...</td>\n",
       "      <td>{feel, living, feeling, understanding, underes...</td>\n",
       "      <td>{optimism, love, joy}</td>\n",
       "      <td>{love}</td>\n",
       "    </tr>\n",
       "  </tbody>\n",
       "</table>\n",
       "<p>852 rows × 4 columns</p>\n",
       "</div>"
      ],
      "text/plain": [
       "                                                 Quote  \\\n",
       "0        Mimì never forgets to see the beauty in life.   \n",
       "1    I will choose the bad guy in every story, I am...   \n",
       "2    Even perfect people are taught to practice imp...   \n",
       "3    The greater your capacity to love, the greater...   \n",
       "4                       We Turks are faithful muslims.   \n",
       "..                                                 ...   \n",
       "847          Your eyes show the strength of your soul.   \n",
       "848  Sometimes it is the people no one can imagine ...   \n",
       "849     A prophet is nothing without a new revelation.   \n",
       "850  I’m not mad. I’m in a perfectly happy mood, yo...   \n",
       "851  We cannot underestimate the power of love in o...   \n",
       "\n",
       "                                                  Tags  \\\n",
       "0                           {beauty, life, forgetting}   \n",
       "1                   {choosing, story, guy, attraction}   \n",
       "2    {fitness, evening, practice, society, perfecti...   \n",
       "3                {feel, feeling, pain, capacity, love}   \n",
       "4                                    {faith, faithful}   \n",
       "..                                                 ...   \n",
       "847                        {eye, soul, strength, show}   \n",
       "848      {doing, anything, imagination, people, thing}   \n",
       "849               {prophet, nothing, revelation, news}   \n",
       "850                         {mood, happiness, madness}   \n",
       "851  {feel, living, feeling, understanding, underes...   \n",
       "\n",
       "                          model_tags ds_tags  \n",
       "0                    {optimism, joy}      {}  \n",
       "1                {anticipation, joy}      {}  \n",
       "2                         {optimism}      {}  \n",
       "3           {optimism, sadness, joy}  {love}  \n",
       "4                    {optimism, joy}      {}  \n",
       "..                               ...     ...  \n",
       "847           {trust, optimism, joy}      {}  \n",
       "848                       {optimism}      {}  \n",
       "849                  {optimism, joy}      {}  \n",
       "850  {anger, optimism, disgust, joy}      {}  \n",
       "851            {optimism, love, joy}  {love}  \n",
       "\n",
       "[852 rows x 4 columns]"
      ]
     },
     "execution_count": 14,
     "metadata": {},
     "output_type": "execute_result"
    }
   ],
   "source": [
    "df"
   ]
  },
  {
   "cell_type": "markdown",
   "metadata": {
    "collapsed": false
   },
   "source": [
    "#### 1.3.3. Use `fasttext` embeddings to find similar tags"
   ]
  },
  {
   "cell_type": "code",
   "execution_count": 16,
   "metadata": {
    "ExecuteTime": {
     "end_time": "2023-11-13T19:02:22.920502Z",
     "start_time": "2023-11-13T19:02:22.914990Z"
    },
    "collapsed": false
   },
   "outputs": [
    {
     "name": "stderr",
     "output_type": "stream",
     "text": [
      "Warning : `load_model` does not return WordVectorModel or SupervisedModel any more, but a `FastText` object which is very similar.\n"
     ]
    }
   ],
   "source": [
    "import fasttext\n",
    "from sklearn.metrics.pairwise import cosine_similarity\n",
    "\n",
    "ft = fasttext.load_model('../cc.en.300.bin')"
   ]
  },
  {
   "cell_type": "code",
   "execution_count": 17,
   "metadata": {
    "ExecuteTime": {
     "end_time": "2023-11-13T19:02:24.134289Z",
     "start_time": "2023-11-13T19:02:24.130080Z"
    },
    "collapsed": false
   },
   "outputs": [],
   "source": [
    "my_set_embed = [ft.get_word_vector(e) for e in my_set]"
   ]
  },
  {
   "cell_type": "code",
   "execution_count": 18,
   "metadata": {
    "ExecuteTime": {
     "end_time": "2023-11-13T19:02:29.019379Z",
     "start_time": "2023-11-13T19:02:26.431217Z"
    },
    "collapsed": false
   },
   "outputs": [
    {
     "data": {
      "application/vnd.jupyter.widget-view+json": {
       "model_id": "97991dc4ed76469da46f85ab00775767",
       "version_major": 2,
       "version_minor": 0
      },
      "text/plain": [
       "  0%|          | 0/1650 [00:00<?, ?it/s]"
      ]
     },
     "metadata": {},
     "output_type": "display_data"
    }
   ],
   "source": [
    "from tqdm.notebook import tqdm\n",
    "\n",
    "all_ds_tags = set(df[\"Tags\"].explode().value_counts().keys())\n",
    "tag_to_tag = {}\n",
    "\n",
    "for e in tqdm(all_ds_tags):\n",
    "    for w, emb in zip(my_set, my_set_embed):\n",
    "        if cosine_similarity([ft.get_word_vector(e)], [emb])[0][0] > 0.5:\n",
    "            tag_to_tag[e] = w"
   ]
  },
  {
   "cell_type": "markdown",
   "metadata": {
    "collapsed": false
   },
   "source": [
    "Clean pairs of tags by hand."
   ]
  },
  {
   "cell_type": "code",
   "execution_count": 19,
   "metadata": {
    "ExecuteTime": {
     "end_time": "2023-11-13T19:02:30.783606Z",
     "start_time": "2023-11-13T19:02:30.780703Z"
    },
    "collapsed": false
   },
   "outputs": [
    {
     "data": {
      "text/plain": [
       "{'regret': 'sadness',\n",
       " 'pleasure': 'joy',\n",
       " 'disappointment': 'surprise',\n",
       " 'lov': 'love',\n",
       " 'feeling': 'sadness',\n",
       " 'passion': 'love',\n",
       " 'sadness': 'pessimism',\n",
       " 'happiness': 'optimism',\n",
       " 'delight': 'surprise',\n",
       " 'expectation': 'anticipation',\n",
       " 'agony': 'sadness',\n",
       " 'tragedy': 'sadness',\n",
       " 'selfishness': 'anger',\n",
       " 'self-confidence': 'optimism',\n",
       " 'confidence': 'optimism',\n",
       " 'pain': 'sadness',\n",
       " 'emotion': 'sadness',\n",
       " 'fear': 'sadness',\n",
       " 'optimist': 'pessimism',\n",
       " 'sorrow': 'joy',\n",
       " 'laughter': 'joy',\n",
       " 'apprehension': 'anticipation',\n",
       " 'embarrassment': 'disgust',\n",
       " 'joy': 'love',\n",
       " 'hatred': 'disgust',\n",
       " 'jealousy': 'disgust',\n",
       " 'anxiety': 'sadness',\n",
       " 'excitement': 'optimism',\n",
       " 'gratitude': 'joy',\n",
       " 'love': 'love',\n",
       " 'admire': 'love',\n",
       " 'trust': 'trust',\n",
       " 'amazement': 'joy',\n",
       " 'pride': 'joy',\n",
       " 'danger': 'fear',\n",
       " 'hate': 'love',\n",
       " 'rage': 'disgust',\n",
       " 'shame': 'disgust',\n",
       " 'worry': 'fear',\n",
       " 'loneliness': 'sadness'}"
      ]
     },
     "execution_count": 19,
     "metadata": {},
     "output_type": "execute_result"
    }
   ],
   "source": [
    "tag_to_tag"
   ]
  },
  {
   "cell_type": "code",
   "execution_count": 20,
   "metadata": {
    "ExecuteTime": {
     "end_time": "2023-11-13T19:06:41.411495Z",
     "start_time": "2023-11-13T19:06:41.401894Z"
    },
    "collapsed": false
   },
   "outputs": [],
   "source": [
    "cleaned_tag2tag = {'regret': 'sadness',\n",
    " 'pleasure': 'joy',\n",
    " 'lov': 'love',\n",
    " 'passion': 'love',\n",
    " 'sadness': 'pessimism',\n",
    " 'happiness': 'optimism',\n",
    " 'delight': 'surprise',\n",
    " 'expectation': 'anticipation',\n",
    " 'agony': 'sadness',\n",
    " 'tragedy': 'sadness',\n",
    " 'selfishness': 'anger',\n",
    " 'self-confidence': 'optimism',\n",
    " 'confidence': 'optimism',\n",
    " 'pain': 'sadness',\n",
    " 'laughter': 'joy',\n",
    " 'apprehension': 'anticipation',\n",
    " 'hatred': 'disgust',\n",
    " 'jealousy': 'disgust',\n",
    " 'anxiety': 'sadness',\n",
    " 'excitement': 'optimism',\n",
    " 'gratitude': 'joy',\n",
    " 'love': 'love',\n",
    " 'admire': 'love',\n",
    " 'trust': 'trust',\n",
    " 'amazement': 'joy',\n",
    " 'pride': 'joy',\n",
    " 'danger': 'fear',\n",
    " 'hate': 'love',\n",
    " 'rage': 'disgust',\n",
    " 'shame': 'disgust',\n",
    " 'worry': 'fear',\n",
    " 'loneliness': 'sadness'}"
   ]
  },
  {
   "cell_type": "markdown",
   "metadata": {
    "collapsed": false
   },
   "source": [
    "Add to the dataset"
   ]
  },
  {
   "cell_type": "code",
   "execution_count": 21,
   "metadata": {
    "ExecuteTime": {
     "end_time": "2023-11-13T19:06:42.823075Z",
     "start_time": "2023-11-13T19:06:42.815840Z"
    },
    "collapsed": false
   },
   "outputs": [],
   "source": [
    "df[\"tag2tag\"] = df[\"Tags\"].apply(lambda x: {cleaned_tag2tag[e] for e in x if e in cleaned_tag2tag})"
   ]
  },
  {
   "cell_type": "markdown",
   "metadata": {
    "collapsed": false
   },
   "source": [
    "#### 1.3.4. Use RoBERTa model to predict mapping of tags"
   ]
  },
  {
   "cell_type": "code",
   "execution_count": 22,
   "metadata": {
    "ExecuteTime": {
     "end_time": "2023-11-13T19:07:37.116512Z",
     "start_time": "2023-11-13T19:06:45.690417Z"
    },
    "collapsed": false
   },
   "outputs": [
    {
     "data": {
      "application/vnd.jupyter.widget-view+json": {
       "model_id": "f9a247d357f24167a832d1d7e06e250a",
       "version_major": 2,
       "version_minor": 0
      },
      "text/plain": [
       "  0%|          | 0/1650 [00:00<?, ?it/s]"
      ]
     },
     "metadata": {},
     "output_type": "display_data"
    }
   ],
   "source": [
    "tags = []\n",
    "for e in tqdm(all_ds_tags):\n",
    "    tags.append(pipe(e, truncation=True, top_k=None))"
   ]
  },
  {
   "cell_type": "code",
   "execution_count": 26,
   "metadata": {
    "ExecuteTime": {
     "end_time": "2023-11-13T19:08:05.204303Z",
     "start_time": "2023-11-13T19:08:05.194378Z"
    },
    "collapsed": false
   },
   "outputs": [],
   "source": [
    "postpr = [{tag[\"label\"] for tag in quote if tag[\"score\"] > 0.5 and tag[\"label\"] in my_set} for quote in tags]\n",
    "tag_to_tags = {tag: tags for tag, tags in zip(all_ds_tags, postpr) if len(tags) != 0}"
   ]
  },
  {
   "cell_type": "code",
   "execution_count": 27,
   "metadata": {
    "ExecuteTime": {
     "end_time": "2023-11-13T19:08:05.465524Z",
     "start_time": "2023-11-13T19:08:05.462907Z"
    },
    "collapsed": false
   },
   "outputs": [],
   "source": [
    "df[\"tag2tag_by_model\"] = df[\"Tags\"].apply(lambda x: {tt for e in x if e in tag_to_tags for tt in tag_to_tags[e] if tt in my_set})"
   ]
  },
  {
   "cell_type": "markdown",
   "metadata": {
    "collapsed": false
   },
   "source": [
    "#### 1.3.5. Combine all tags\n",
    "Combine all tags into one column and save the dataset."
   ]
  },
  {
   "cell_type": "code",
   "execution_count": 29,
   "metadata": {
    "ExecuteTime": {
     "end_time": "2023-11-13T19:08:31.365464Z",
     "start_time": "2023-11-13T19:08:31.356480Z"
    },
    "collapsed": false
   },
   "outputs": [],
   "source": [
    "df[\"all_tags\"] = df.apply(lambda x: x.model_tags.union(x.ds_tags).union(x.tag2tag).union(x.tag2tag_by_model), axis=1)"
   ]
  },
  {
   "cell_type": "code",
   "execution_count": 30,
   "metadata": {
    "ExecuteTime": {
     "end_time": "2023-11-13T19:08:33.587779Z",
     "start_time": "2023-11-13T19:08:33.576835Z"
    },
    "collapsed": false
   },
   "outputs": [],
   "source": [
    "# make str\n",
    "df[\"all_tags\"] = df[\"all_tags\"].apply(lambda x: \",\".join(x))"
   ]
  },
  {
   "cell_type": "code",
   "execution_count": 32,
   "metadata": {
    "ExecuteTime": {
     "end_time": "2023-11-13T19:08:45.199869Z",
     "start_time": "2023-11-13T19:08:45.191176Z"
    },
    "collapsed": false
   },
   "outputs": [],
   "source": [
    "df[['Quote', 'all_tags']].to_csv('../data/quotes_labeled_twitter.csv', index=False)"
   ]
  },
  {
   "cell_type": "code",
   "execution_count": 33,
   "metadata": {
    "ExecuteTime": {
     "end_time": "2023-11-13T19:08:50.872510Z",
     "start_time": "2023-11-13T19:08:50.868739Z"
    },
    "collapsed": false
   },
   "outputs": [
    {
     "data": {
      "text/html": [
       "<div>\n",
       "<style scoped>\n",
       "    .dataframe tbody tr th:only-of-type {\n",
       "        vertical-align: middle;\n",
       "    }\n",
       "\n",
       "    .dataframe tbody tr th {\n",
       "        vertical-align: top;\n",
       "    }\n",
       "\n",
       "    .dataframe thead th {\n",
       "        text-align: right;\n",
       "    }\n",
       "</style>\n",
       "<table border=\"1\" class=\"dataframe\">\n",
       "  <thead>\n",
       "    <tr style=\"text-align: right;\">\n",
       "      <th></th>\n",
       "      <th>Quote</th>\n",
       "      <th>Tags</th>\n",
       "      <th>model_tags</th>\n",
       "      <th>ds_tags</th>\n",
       "      <th>tag2tag</th>\n",
       "      <th>tag2tag_by_model</th>\n",
       "      <th>all_tags</th>\n",
       "    </tr>\n",
       "  </thead>\n",
       "  <tbody>\n",
       "    <tr>\n",
       "      <th>0</th>\n",
       "      <td>Mimì never forgets to see the beauty in life.</td>\n",
       "      <td>{beauty, life, forgetting}</td>\n",
       "      <td>{optimism, joy}</td>\n",
       "      <td>{}</td>\n",
       "      <td>{}</td>\n",
       "      <td>{optimism, sadness, disgust, joy}</td>\n",
       "      <td>optimism,sadness,disgust,joy</td>\n",
       "    </tr>\n",
       "    <tr>\n",
       "      <th>1</th>\n",
       "      <td>I will choose the bad guy in every story, I am...</td>\n",
       "      <td>{choosing, story, guy, attraction}</td>\n",
       "      <td>{anticipation, joy}</td>\n",
       "      <td>{}</td>\n",
       "      <td>{}</td>\n",
       "      <td>{optimism, anger}</td>\n",
       "      <td>anticipation,optimism,anger,joy</td>\n",
       "    </tr>\n",
       "    <tr>\n",
       "      <th>2</th>\n",
       "      <td>Even perfect people are taught to practice imp...</td>\n",
       "      <td>{fitness, evening, practice, society, perfecti...</td>\n",
       "      <td>{optimism}</td>\n",
       "      <td>{}</td>\n",
       "      <td>{}</td>\n",
       "      <td>{anger, sadness, disgust, joy, optimism}</td>\n",
       "      <td>optimism,anger,sadness,disgust,joy</td>\n",
       "    </tr>\n",
       "    <tr>\n",
       "      <th>3</th>\n",
       "      <td>The greater your capacity to love, the greater...</td>\n",
       "      <td>{feel, feeling, pain, capacity, love}</td>\n",
       "      <td>{optimism, sadness, joy}</td>\n",
       "      <td>{love}</td>\n",
       "      <td>{love, sadness}</td>\n",
       "      <td>{sadness, disgust, joy, optimism, love, pessim...</td>\n",
       "      <td>sadness,disgust,joy,optimism,love,pessimism</td>\n",
       "    </tr>\n",
       "    <tr>\n",
       "      <th>4</th>\n",
       "      <td>We Turks are faithful muslims.</td>\n",
       "      <td>{faith, faithful}</td>\n",
       "      <td>{optimism, joy}</td>\n",
       "      <td>{}</td>\n",
       "      <td>{}</td>\n",
       "      <td>{optimism, joy}</td>\n",
       "      <td>optimism,joy</td>\n",
       "    </tr>\n",
       "    <tr>\n",
       "      <th>...</th>\n",
       "      <td>...</td>\n",
       "      <td>...</td>\n",
       "      <td>...</td>\n",
       "      <td>...</td>\n",
       "      <td>...</td>\n",
       "      <td>...</td>\n",
       "      <td>...</td>\n",
       "    </tr>\n",
       "    <tr>\n",
       "      <th>847</th>\n",
       "      <td>Your eyes show the strength of your soul.</td>\n",
       "      <td>{eye, soul, strength, show}</td>\n",
       "      <td>{trust, optimism, joy}</td>\n",
       "      <td>{}</td>\n",
       "      <td>{}</td>\n",
       "      <td>{optimism, joy}</td>\n",
       "      <td>trust,optimism,joy</td>\n",
       "    </tr>\n",
       "    <tr>\n",
       "      <th>848</th>\n",
       "      <td>Sometimes it is the people no one can imagine ...</td>\n",
       "      <td>{doing, anything, imagination, people, thing}</td>\n",
       "      <td>{optimism}</td>\n",
       "      <td>{}</td>\n",
       "      <td>{}</td>\n",
       "      <td>{anticipation, anger, disgust, joy, optimism}</td>\n",
       "      <td>optimism,anticipation,anger,disgust,joy</td>\n",
       "    </tr>\n",
       "    <tr>\n",
       "      <th>849</th>\n",
       "      <td>A prophet is nothing without a new revelation.</td>\n",
       "      <td>{prophet, nothing, revelation, news}</td>\n",
       "      <td>{optimism, joy}</td>\n",
       "      <td>{}</td>\n",
       "      <td>{}</td>\n",
       "      <td>{sadness, disgust, joy, optimism, love}</td>\n",
       "      <td>optimism,sadness,love,disgust,joy</td>\n",
       "    </tr>\n",
       "    <tr>\n",
       "      <th>850</th>\n",
       "      <td>I’m not mad. I’m in a perfectly happy mood, yo...</td>\n",
       "      <td>{mood, happiness, madness}</td>\n",
       "      <td>{anger, optimism, disgust, joy}</td>\n",
       "      <td>{}</td>\n",
       "      <td>{optimism}</td>\n",
       "      <td>{anger, sadness, disgust, joy, optimism}</td>\n",
       "      <td>anger,sadness,disgust,joy,optimism</td>\n",
       "    </tr>\n",
       "    <tr>\n",
       "      <th>851</th>\n",
       "      <td>We cannot underestimate the power of love in o...</td>\n",
       "      <td>{feel, living, feeling, understanding, underes...</td>\n",
       "      <td>{optimism, love, joy}</td>\n",
       "      <td>{love}</td>\n",
       "      <td>{love}</td>\n",
       "      <td>{anticipation, sadness, joy, optimism, love}</td>\n",
       "      <td>anticipation,sadness,joy,optimism,love</td>\n",
       "    </tr>\n",
       "  </tbody>\n",
       "</table>\n",
       "<p>852 rows × 7 columns</p>\n",
       "</div>"
      ],
      "text/plain": [
       "                                                 Quote  \\\n",
       "0        Mimì never forgets to see the beauty in life.   \n",
       "1    I will choose the bad guy in every story, I am...   \n",
       "2    Even perfect people are taught to practice imp...   \n",
       "3    The greater your capacity to love, the greater...   \n",
       "4                       We Turks are faithful muslims.   \n",
       "..                                                 ...   \n",
       "847          Your eyes show the strength of your soul.   \n",
       "848  Sometimes it is the people no one can imagine ...   \n",
       "849     A prophet is nothing without a new revelation.   \n",
       "850  I’m not mad. I’m in a perfectly happy mood, yo...   \n",
       "851  We cannot underestimate the power of love in o...   \n",
       "\n",
       "                                                  Tags  \\\n",
       "0                           {beauty, life, forgetting}   \n",
       "1                   {choosing, story, guy, attraction}   \n",
       "2    {fitness, evening, practice, society, perfecti...   \n",
       "3                {feel, feeling, pain, capacity, love}   \n",
       "4                                    {faith, faithful}   \n",
       "..                                                 ...   \n",
       "847                        {eye, soul, strength, show}   \n",
       "848      {doing, anything, imagination, people, thing}   \n",
       "849               {prophet, nothing, revelation, news}   \n",
       "850                         {mood, happiness, madness}   \n",
       "851  {feel, living, feeling, understanding, underes...   \n",
       "\n",
       "                          model_tags ds_tags          tag2tag  \\\n",
       "0                    {optimism, joy}      {}               {}   \n",
       "1                {anticipation, joy}      {}               {}   \n",
       "2                         {optimism}      {}               {}   \n",
       "3           {optimism, sadness, joy}  {love}  {love, sadness}   \n",
       "4                    {optimism, joy}      {}               {}   \n",
       "..                               ...     ...              ...   \n",
       "847           {trust, optimism, joy}      {}               {}   \n",
       "848                       {optimism}      {}               {}   \n",
       "849                  {optimism, joy}      {}               {}   \n",
       "850  {anger, optimism, disgust, joy}      {}       {optimism}   \n",
       "851            {optimism, love, joy}  {love}           {love}   \n",
       "\n",
       "                                      tag2tag_by_model  \\\n",
       "0                    {optimism, sadness, disgust, joy}   \n",
       "1                                    {optimism, anger}   \n",
       "2             {anger, sadness, disgust, joy, optimism}   \n",
       "3    {sadness, disgust, joy, optimism, love, pessim...   \n",
       "4                                      {optimism, joy}   \n",
       "..                                                 ...   \n",
       "847                                    {optimism, joy}   \n",
       "848      {anticipation, anger, disgust, joy, optimism}   \n",
       "849            {sadness, disgust, joy, optimism, love}   \n",
       "850           {anger, sadness, disgust, joy, optimism}   \n",
       "851       {anticipation, sadness, joy, optimism, love}   \n",
       "\n",
       "                                        all_tags  \n",
       "0                   optimism,sadness,disgust,joy  \n",
       "1                anticipation,optimism,anger,joy  \n",
       "2             optimism,anger,sadness,disgust,joy  \n",
       "3    sadness,disgust,joy,optimism,love,pessimism  \n",
       "4                                   optimism,joy  \n",
       "..                                           ...  \n",
       "847                           trust,optimism,joy  \n",
       "848      optimism,anticipation,anger,disgust,joy  \n",
       "849            optimism,sadness,love,disgust,joy  \n",
       "850           anger,sadness,disgust,joy,optimism  \n",
       "851       anticipation,sadness,joy,optimism,love  \n",
       "\n",
       "[852 rows x 7 columns]"
      ]
     },
     "execution_count": 33,
     "metadata": {},
     "output_type": "execute_result"
    }
   ],
   "source": [
    "df"
   ]
  },
  {
   "cell_type": "markdown",
   "metadata": {},
   "source": [
    "## 2. More Quotes by Parsing Some Sources"
   ]
  },
  {
   "cell_type": "markdown",
   "metadata": {},
   "source": [
    "TODO: if needed"
   ]
  }
 ],
 "metadata": {
  "kernelspec": {
   "display_name": "vladimir-torch",
   "language": "python",
   "name": "vladimir-torch"
  },
  "language_info": {
   "codemirror_mode": {
    "name": "ipython",
    "version": 3
   },
   "file_extension": ".py",
   "mimetype": "text/x-python",
   "name": "python",
   "nbconvert_exporter": "python",
   "pygments_lexer": "ipython3",
   "version": "3.10.12"
  }
 },
 "nbformat": 4,
 "nbformat_minor": 2
}
