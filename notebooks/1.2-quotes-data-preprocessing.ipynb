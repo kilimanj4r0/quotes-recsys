{
 "cells": [
  {
   "cell_type": "markdown",
   "metadata": {},
   "source": [
    "# Data Preprocessing of Quotes Datasets"
   ]
  },
  {
   "cell_type": "markdown",
   "metadata": {},
   "source": [
    "## 1. Quotes Dataset From Kaggle"
   ]
  },
  {
   "cell_type": "markdown",
   "metadata": {},
   "source": [
    "[Quotes Dataset](https://www.kaggle.com/datasets/hiteshsuthar101/quotes-dataset) — 852 quotes entries parsed and labeled from [quotepark.com](quotepark.com) "
   ]
  },
  {
   "cell_type": "code",
   "execution_count": 1,
   "metadata": {},
   "outputs": [
    {
     "data": {
      "text/html": [
       "<div>\n",
       "<style scoped>\n",
       "    .dataframe tbody tr th:only-of-type {\n",
       "        vertical-align: middle;\n",
       "    }\n",
       "\n",
       "    .dataframe tbody tr th {\n",
       "        vertical-align: top;\n",
       "    }\n",
       "\n",
       "    .dataframe thead th {\n",
       "        text-align: right;\n",
       "    }\n",
       "</style>\n",
       "<table border=\"1\" class=\"dataframe\">\n",
       "  <thead>\n",
       "    <tr style=\"text-align: right;\">\n",
       "      <th></th>\n",
       "      <th>Id</th>\n",
       "      <th>language</th>\n",
       "      <th>Quote</th>\n",
       "      <th>Quote_url</th>\n",
       "      <th>Author</th>\n",
       "      <th>Author_Profile</th>\n",
       "      <th>Tags</th>\n",
       "    </tr>\n",
       "  </thead>\n",
       "  <tbody>\n",
       "    <tr>\n",
       "      <th>0</th>\n",
       "      <td>2114238</td>\n",
       "      <td>en</td>\n",
       "      <td>Mimì never forgets to see the beauty in life.</td>\n",
       "      <td>https://quotepark.com/quotes/2114238-megan-mar...</td>\n",
       "      <td>Megan Marie Hart</td>\n",
       "      <td>https://quotepark.com/authors/megan-marie-hart/</td>\n",
       "      <td>Life, Beauty, Forgetting</td>\n",
       "    </tr>\n",
       "  </tbody>\n",
       "</table>\n",
       "</div>"
      ],
      "text/plain": [
       "        Id language                                          Quote  \\\n",
       "0  2114238       en  Mimì never forgets to see the beauty in life.   \n",
       "\n",
       "                                           Quote_url            Author  \\\n",
       "0  https://quotepark.com/quotes/2114238-megan-mar...  Megan Marie Hart   \n",
       "\n",
       "                                    Author_Profile                      Tags  \n",
       "0  https://quotepark.com/authors/megan-marie-hart/  Life, Beauty, Forgetting  "
      ]
     },
     "execution_count": 1,
     "metadata": {},
     "output_type": "execute_result"
    }
   ],
   "source": [
    "import pandas as pd\n",
    "\n",
    "\n",
    "quotes_ds_dir = 'data/quotes.csv'\n",
    "\n",
    "quotes = pd.read_csv(quotes_ds_dir)\n",
    "quotes.head(1)"
   ]
  },
  {
   "cell_type": "markdown",
   "metadata": {},
   "source": [
    "## 2. More Quotes by Parsing Some Sources"
   ]
  },
  {
   "cell_type": "markdown",
   "metadata": {},
   "source": [
    "TODO: if needed"
   ]
  }
 ],
 "metadata": {
  "kernelspec": {
   "display_name": "vladimir-torch",
   "language": "python",
   "name": "python3"
  },
  "language_info": {
   "codemirror_mode": {
    "name": "ipython",
    "version": 3
   },
   "file_extension": ".py",
   "mimetype": "text/x-python",
   "name": "python",
   "nbconvert_exporter": "python",
   "pygments_lexer": "ipython3",
   "version": "3.10.12"
  }
 },
 "nbformat": 4,
 "nbformat_minor": 2
}
