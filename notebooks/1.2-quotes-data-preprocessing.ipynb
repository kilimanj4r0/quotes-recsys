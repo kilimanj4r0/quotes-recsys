{
 "cells": [
  {
   "cell_type": "markdown",
   "metadata": {},
   "source": [
    "# Data Preprocessing of Quotes Datasets"
   ]
  },
  {
   "cell_type": "markdown",
   "metadata": {},
   "source": [
    "## 1. Quotes Dataset From Kaggle\n",
    "\n",
    "[Quotes Dataset](https://www.kaggle.com/datasets/hiteshsuthar101/quotes-dataset) — 852 quotes entries parsed and labeled from [quotepark.com](quotepark.com) "
   ]
  },
  {
   "cell_type": "code",
   "execution_count": 1,
   "metadata": {
    "ExecuteTime": {
     "end_time": "2023-11-13T18:58:31.239866Z",
     "start_time": "2023-11-13T18:58:30.960353Z"
    }
   },
   "outputs": [
    {
     "data": {
      "text/plain": "        Id language                                          Quote  \\\n0  2114238       en  Mimì never forgets to see the beauty in life.   \n\n                                           Quote_url            Author  \\\n0  https://quotepark.com/quotes/2114238-megan-mar...  Megan Marie Hart   \n\n                                    Author_Profile                      Tags  \n0  https://quotepark.com/authors/megan-marie-hart/  Life, Beauty, Forgetting  ",
      "text/html": "<div>\n<style scoped>\n    .dataframe tbody tr th:only-of-type {\n        vertical-align: middle;\n    }\n\n    .dataframe tbody tr th {\n        vertical-align: top;\n    }\n\n    .dataframe thead th {\n        text-align: right;\n    }\n</style>\n<table border=\"1\" class=\"dataframe\">\n  <thead>\n    <tr style=\"text-align: right;\">\n      <th></th>\n      <th>Id</th>\n      <th>language</th>\n      <th>Quote</th>\n      <th>Quote_url</th>\n      <th>Author</th>\n      <th>Author_Profile</th>\n      <th>Tags</th>\n    </tr>\n  </thead>\n  <tbody>\n    <tr>\n      <th>0</th>\n      <td>2114238</td>\n      <td>en</td>\n      <td>Mimì never forgets to see the beauty in life.</td>\n      <td>https://quotepark.com/quotes/2114238-megan-mar...</td>\n      <td>Megan Marie Hart</td>\n      <td>https://quotepark.com/authors/megan-marie-hart/</td>\n      <td>Life, Beauty, Forgetting</td>\n    </tr>\n  </tbody>\n</table>\n</div>"
     },
     "execution_count": 1,
     "metadata": {},
     "output_type": "execute_result"
    }
   ],
   "source": [
    "import pandas as pd\n",
    "\n",
    "\n",
    "quotes_ds_dir = '../data/quotes.csv'\n",
    "\n",
    "df = pd.read_csv(quotes_ds_dir)\n",
    "df.head(1)"
   ]
  },
  {
   "cell_type": "markdown",
   "source": [
    "### 1.1. Dataset preprocessing\n",
    "We have to remove the columns that we don't need for our task and split the tags column into a set of tags."
   ],
   "metadata": {
    "collapsed": false
   }
  },
  {
   "cell_type": "code",
   "execution_count": 2,
   "outputs": [],
   "source": [
    "df = df[['Quote', 'Tags']]\n",
    "df[\"Tags\"] = df[\"Tags\"].apply(lambda x: {e.strip().lower() for e in x.split(\",\")} if isinstance(x, str) else [])"
   ],
   "metadata": {
    "collapsed": false,
    "ExecuteTime": {
     "end_time": "2023-11-13T18:58:33.539402Z",
     "start_time": "2023-11-13T18:58:33.530613Z"
    }
   }
  },
  {
   "cell_type": "markdown",
   "source": [
    "### 1.2. Add tags from the go emotions dataset to the quotes dataset\n",
    "It is necessary to add tags from the go emotions dataset to the quotes dataset, because we will use the model fine-tuned on go emotions dataset.\n",
    "\n",
    "Here we will use the model [SamLowe/roberta-base-go_emotions](https://huggingface.co/SamLowe/roberta-base-go_emotions) model."
   ],
   "metadata": {
    "collapsed": false
   }
  },
  {
   "cell_type": "markdown",
   "source": [
    "#### 1.2.1. Use RoBERTa model to predict tags on quote text\n",
    "Get the tags from the model (with threshold = 0.2) and filter them using cleaned tag set."
   ],
   "metadata": {
    "collapsed": false
   }
  },
  {
   "cell_type": "code",
   "execution_count": 4,
   "outputs": [],
   "source": [
    "from transformers import pipeline\n",
    "pipe = pipeline(\"text-classification\", model=\"SamLowe/roberta-base-go_emotions\")"
   ],
   "metadata": {
    "collapsed": false,
    "ExecuteTime": {
     "end_time": "2023-11-13T18:27:15.449476Z",
     "start_time": "2023-11-13T18:27:12.104219Z"
    }
   }
  },
  {
   "cell_type": "code",
   "execution_count": 6,
   "outputs": [],
   "source": [
    "# Filtered tag set for quotes from the go emotions\n",
    "my_set =  {'admiration',\n",
    "           'amusement',\n",
    "           'anger',\n",
    "           'annoyance',\n",
    "           'confusion',\n",
    "           'curiosity',\n",
    "           'desire',\n",
    "           'disappointment',\n",
    "           'disgust',\n",
    "           'embarrassment',\n",
    "           'excitement',\n",
    "           'fear',\n",
    "           'gratitude',\n",
    "           'grief',\n",
    "           'joy',\n",
    "           'love',\n",
    "           'nervousness',\n",
    "           'optimism',\n",
    "           'pride',\n",
    "           'realization',\n",
    "           'relief',\n",
    "           'remorse',\n",
    "           'sadness',\n",
    "           'surprise'}"
   ],
   "metadata": {
    "collapsed": false,
    "ExecuteTime": {
     "end_time": "2023-11-13T18:29:04.966417Z",
     "start_time": "2023-11-13T18:29:04.963073Z"
    }
   }
  },
  {
   "cell_type": "code",
   "execution_count": 5,
   "outputs": [],
   "source": [
    "tags = pipe(list(df[\"Quote\"]), truncation=True, top_k=None)"
   ],
   "metadata": {
    "collapsed": false,
    "ExecuteTime": {
     "start_time": "2023-11-13T18:27:24.242878Z"
    }
   }
  },
  {
   "cell_type": "code",
   "execution_count": 7,
   "outputs": [],
   "source": [
    "df[\"model_tags\"] = [{tag[\"label\"] for tag in quote if tag[\"score\"] > 0.2 and tag[\"label\"] in my_set} for quote in tags]"
   ],
   "metadata": {
    "collapsed": false,
    "ExecuteTime": {
     "end_time": "2023-11-13T18:29:19.772107Z",
     "start_time": "2023-11-13T18:29:19.768706Z"
    }
   }
  },
  {
   "cell_type": "markdown",
   "source": [
    "#### 1.2.2. Add tags from the quotes dataset intersection with the go emotions dataset"
   ],
   "metadata": {
    "collapsed": false
   }
  },
  {
   "cell_type": "code",
   "execution_count": 9,
   "outputs": [],
   "source": [
    "df[\"ds_tags\"] = df[\"Tags\"].apply(lambda x: my_set.intersection(x))"
   ],
   "metadata": {
    "collapsed": false,
    "ExecuteTime": {
     "end_time": "2023-11-13T18:33:42.363260Z",
     "start_time": "2023-11-13T18:33:42.357912Z"
    }
   }
  },
  {
   "cell_type": "code",
   "execution_count": 10,
   "outputs": [
    {
     "data": {
      "text/plain": "                                                 Quote  \\\n0        Mimì never forgets to see the beauty in life.   \n1    I will choose the bad guy in every story, I am...   \n2    Even perfect people are taught to practice imp...   \n3    The greater your capacity to love, the greater...   \n4                       We Turks are faithful muslims.   \n..                                                 ...   \n847          Your eyes show the strength of your soul.   \n848  Sometimes it is the people no one can imagine ...   \n849     A prophet is nothing without a new revelation.   \n850  I’m not mad. I’m in a perfectly happy mood, yo...   \n851  We cannot underestimate the power of love in o...   \n\n                                                  Tags        model_tags  \\\n0                           {beauty, life, forgetting}                {}   \n1                   {attraction, story, choosing, guy}                {}   \n2    {people, still, evening, society, practice, pe...                {}   \n3                {pain, feeling, capacity, love, feel}            {love}   \n4                                    {faithful, faith}                {}   \n..                                                 ...               ...   \n847                        {soul, show, eye, strength}      {admiration}   \n848      {people, doing, imagination, thing, anything}                {}   \n849               {prophet, revelation, news, nothing}                {}   \n850                         {happiness, madness, mood}  {joy, annoyance}   \n851  {understanding, power, feeling, love, underest...            {love}   \n\n    ds_tags  \n0        {}  \n1        {}  \n2        {}  \n3    {love}  \n4        {}  \n..      ...  \n847      {}  \n848      {}  \n849      {}  \n850      {}  \n851  {love}  \n\n[852 rows x 4 columns]",
      "text/html": "<div>\n<style scoped>\n    .dataframe tbody tr th:only-of-type {\n        vertical-align: middle;\n    }\n\n    .dataframe tbody tr th {\n        vertical-align: top;\n    }\n\n    .dataframe thead th {\n        text-align: right;\n    }\n</style>\n<table border=\"1\" class=\"dataframe\">\n  <thead>\n    <tr style=\"text-align: right;\">\n      <th></th>\n      <th>Quote</th>\n      <th>Tags</th>\n      <th>model_tags</th>\n      <th>ds_tags</th>\n    </tr>\n  </thead>\n  <tbody>\n    <tr>\n      <th>0</th>\n      <td>Mimì never forgets to see the beauty in life.</td>\n      <td>{beauty, life, forgetting}</td>\n      <td>{}</td>\n      <td>{}</td>\n    </tr>\n    <tr>\n      <th>1</th>\n      <td>I will choose the bad guy in every story, I am...</td>\n      <td>{attraction, story, choosing, guy}</td>\n      <td>{}</td>\n      <td>{}</td>\n    </tr>\n    <tr>\n      <th>2</th>\n      <td>Even perfect people are taught to practice imp...</td>\n      <td>{people, still, evening, society, practice, pe...</td>\n      <td>{}</td>\n      <td>{}</td>\n    </tr>\n    <tr>\n      <th>3</th>\n      <td>The greater your capacity to love, the greater...</td>\n      <td>{pain, feeling, capacity, love, feel}</td>\n      <td>{love}</td>\n      <td>{love}</td>\n    </tr>\n    <tr>\n      <th>4</th>\n      <td>We Turks are faithful muslims.</td>\n      <td>{faithful, faith}</td>\n      <td>{}</td>\n      <td>{}</td>\n    </tr>\n    <tr>\n      <th>...</th>\n      <td>...</td>\n      <td>...</td>\n      <td>...</td>\n      <td>...</td>\n    </tr>\n    <tr>\n      <th>847</th>\n      <td>Your eyes show the strength of your soul.</td>\n      <td>{soul, show, eye, strength}</td>\n      <td>{admiration}</td>\n      <td>{}</td>\n    </tr>\n    <tr>\n      <th>848</th>\n      <td>Sometimes it is the people no one can imagine ...</td>\n      <td>{people, doing, imagination, thing, anything}</td>\n      <td>{}</td>\n      <td>{}</td>\n    </tr>\n    <tr>\n      <th>849</th>\n      <td>A prophet is nothing without a new revelation.</td>\n      <td>{prophet, revelation, news, nothing}</td>\n      <td>{}</td>\n      <td>{}</td>\n    </tr>\n    <tr>\n      <th>850</th>\n      <td>I’m not mad. I’m in a perfectly happy mood, yo...</td>\n      <td>{happiness, madness, mood}</td>\n      <td>{joy, annoyance}</td>\n      <td>{}</td>\n    </tr>\n    <tr>\n      <th>851</th>\n      <td>We cannot underestimate the power of love in o...</td>\n      <td>{understanding, power, feeling, love, underest...</td>\n      <td>{love}</td>\n      <td>{love}</td>\n    </tr>\n  </tbody>\n</table>\n<p>852 rows × 4 columns</p>\n</div>"
     },
     "execution_count": 10,
     "metadata": {},
     "output_type": "execute_result"
    }
   ],
   "source": [
    "df"
   ],
   "metadata": {
    "collapsed": false,
    "ExecuteTime": {
     "end_time": "2023-11-13T18:33:45.834463Z",
     "start_time": "2023-11-13T18:33:45.831313Z"
    }
   }
  },
  {
   "cell_type": "markdown",
   "source": [
    "#### 1.2.3. Use `fasttext` embeddings to find similar tags"
   ],
   "metadata": {
    "collapsed": false
   }
  },
  {
   "cell_type": "code",
   "execution_count": 11,
   "outputs": [
    {
     "name": "stderr",
     "output_type": "stream",
     "text": [
      "Warning : `load_model` does not return WordVectorModel or SupervisedModel any more, but a `FastText` object which is very similar.\n"
     ]
    }
   ],
   "source": [
    "import fasttext\n",
    "from sklearn.metrics.pairwise import cosine_similarity\n",
    "\n",
    "ft = fasttext.load_model('cc.en.300.bin')"
   ],
   "metadata": {
    "collapsed": false,
    "ExecuteTime": {
     "end_time": "2023-11-13T18:36:00.968646Z",
     "start_time": "2023-11-13T18:35:55.247320Z"
    }
   }
  },
  {
   "cell_type": "code",
   "execution_count": 12,
   "outputs": [],
   "source": [
    "my_set_embed = [ft.get_word_vector(e) for e in my_set]"
   ],
   "metadata": {
    "collapsed": false,
    "ExecuteTime": {
     "end_time": "2023-11-13T18:36:42.933535Z",
     "start_time": "2023-11-13T18:36:42.929430Z"
    }
   }
  },
  {
   "cell_type": "code",
   "execution_count": 13,
   "outputs": [
    {
     "data": {
      "text/plain": "  0%|          | 0/1650 [00:00<?, ?it/s]",
      "application/vnd.jupyter.widget-view+json": {
       "version_major": 2,
       "version_minor": 0,
       "model_id": "0152f2af206f4a8b901c57ae0073494d"
      }
     },
     "metadata": {},
     "output_type": "display_data"
    }
   ],
   "source": [
    "from tqdm.notebook import tqdm\n",
    "\n",
    "all_ds_tags = set(df[\"Tags\"].explode().value_counts().keys())\n",
    "tag_to_tag = {}\n",
    "\n",
    "for e in tqdm(all_ds_tags):\n",
    "    for w, emb in zip(my_set, my_set_embed):\n",
    "        if cosine_similarity([ft.get_word_vector(e)], [emb])[0][0] > 0.5:\n",
    "            tag_to_tag[e] = w"
   ],
   "metadata": {
    "collapsed": false,
    "ExecuteTime": {
     "end_time": "2023-11-13T18:36:50.118007Z",
     "start_time": "2023-11-13T18:36:44.658830Z"
    }
   }
  },
  {
   "cell_type": "markdown",
   "source": [
    "Clean pairs of tags by hand."
   ],
   "metadata": {
    "collapsed": false
   }
  },
  {
   "cell_type": "code",
   "execution_count": 14,
   "outputs": [
    {
     "data": {
      "text/plain": "{'gratitude': 'admiration',\n 'amazement': 'admiration',\n 'appetite': 'desire',\n 'worry': 'fear',\n 'agony': 'grief',\n 'concern': 'annoyance',\n 'imagination': 'curiosity',\n 'apprehension': 'excitement',\n 'lov': 'love',\n 'confusion': 'confusion',\n 'realization': 'realization',\n 'tragedy': 'grief',\n 'joy': 'love',\n 'anxiety': 'grief',\n 'pain': 'grief',\n 'praise': 'admiration',\n 'acknowledgment': 'gratitude',\n 'happiness': 'optimism',\n 'intention': 'desire',\n 'desire': 'desire',\n 'self-confidence': 'optimism',\n 'fear': 'fear',\n 'regret': 'remorse',\n 'aid': 'relief',\n 'laughter': 'excitement',\n 'loneliness': 'grief',\n 'pleasure': 'joy',\n 'sadness': 'excitement',\n 'embarrassment': 'disgust',\n 'encouragement': 'gratitude',\n 'excitement': 'excitement',\n 'awe': 'admiration',\n 'rage': 'disgust',\n 'selfishness': 'anger',\n 'pride': 'pride',\n 'confidence': 'optimism',\n 'hatred': 'admiration',\n 'jealousy': 'admiration',\n 'admire': 'admiration',\n 'danger': 'fear',\n 'shame': 'disgust',\n 'delight': 'excitement',\n 'disappointment': 'excitement',\n 'optimist': 'optimism',\n 'feeling': 'sadness',\n 'passion': 'admiration',\n 'love': 'love',\n 'emotion': 'excitement',\n 'hate': 'love',\n 'kindness': 'gratitude',\n 'appreciation': 'admiration',\n 'sorrow': 'grief',\n 'interest': 'curiosity',\n 'respect': 'admiration',\n 'want': 'desire'}"
     },
     "execution_count": 14,
     "metadata": {},
     "output_type": "execute_result"
    }
   ],
   "source": [
    "tag_to_tag"
   ],
   "metadata": {
    "collapsed": false,
    "ExecuteTime": {
     "end_time": "2023-11-13T18:37:22.629326Z",
     "start_time": "2023-11-13T18:37:22.621692Z"
    }
   }
  },
  {
   "cell_type": "code",
   "execution_count": 15,
   "outputs": [],
   "source": [
    "cleaned_tag2tag = {'encouragement': 'gratitude',\n",
    " 'danger': 'fear',\n",
    " 'intention': 'desire',\n",
    " 'regret': 'sadness',\n",
    " 'disappointment': 'sadness',\n",
    " 'rage': 'disgust',\n",
    " 'appetite': 'desire',\n",
    " 'agony': 'sadness',\n",
    " 'optimist': 'optimism',\n",
    " 'kindness': 'gratitude',\n",
    " 'pleasure': 'joy',\n",
    " 'pride': 'joy',\n",
    " 'imagination': 'curiosity',\n",
    " 'amazement': 'disgust',\n",
    " 'awe': 'admiration',\n",
    " 'happiness': 'optimism',\n",
    " 'acknowledgment': 'gratitude',\n",
    " 'loneliness': 'sadness',\n",
    " 'delight': 'joy',\n",
    " 'admire': 'admiration',\n",
    " 'sorrow': 'sadness',\n",
    " 'laughter': 'joy',\n",
    " 'hatred': 'disgust',\n",
    " 'want': 'desire',\n",
    " 'respect': 'admiration',\n",
    " 'worry': 'fear',\n",
    " 'pain': 'sadness',\n",
    " 'lov': 'love',\n",
    " 'apprehension': 'nervousness',\n",
    " 'tragedy': 'sadness',\n",
    " 'aid': 'relief',\n",
    " 'love': 'joy',\n",
    " 'confidence': 'optimism',\n",
    " 'realization': 'realization',\n",
    " 'praise': 'admiration',\n",
    " 'anxiety': 'sadness',\n",
    " 'interest': 'curiosity',\n",
    " 'confusion': 'nervousness'}"
   ],
   "metadata": {
    "collapsed": false,
    "ExecuteTime": {
     "end_time": "2023-11-13T18:37:23.995631Z",
     "start_time": "2023-11-13T18:37:23.993161Z"
    }
   }
  },
  {
   "cell_type": "markdown",
   "source": [
    "Add to the dataset"
   ],
   "metadata": {
    "collapsed": false
   }
  },
  {
   "cell_type": "code",
   "execution_count": 16,
   "outputs": [],
   "source": [
    "df[\"tag2tag\"] = df[\"Tags\"].apply(lambda x: {cleaned_tag2tag[e] for e in x if e in cleaned_tag2tag})"
   ],
   "metadata": {
    "collapsed": false,
    "ExecuteTime": {
     "end_time": "2023-11-13T18:37:36.891555Z",
     "start_time": "2023-11-13T18:37:36.887095Z"
    }
   }
  },
  {
   "cell_type": "markdown",
   "source": [
    "#### 1.2.4. Use RoBERTa model to predict mapping of tags"
   ],
   "metadata": {
    "collapsed": false
   }
  },
  {
   "cell_type": "code",
   "execution_count": null,
   "outputs": [],
   "source": [
    "tags = []\n",
    "for e in tqdm(all_ds_tags):\n",
    "    tags.append(pipe(e, truncation=True, top_k=None))"
   ],
   "metadata": {
    "collapsed": false
   }
  },
  {
   "cell_type": "code",
   "execution_count": 17,
   "outputs": [],
   "source": [
    "postpr = [{tag[\"label\"] for tag in quote if tag[\"score\"] > 0.1 and tag[\"label\"] in my_set} for quote in tags]\n",
    "tag_to_tags = {tag: tags for tag, tags in zip(all_ds_tags, postpr) if len(tags) != 0}"
   ],
   "metadata": {
    "collapsed": false,
    "ExecuteTime": {
     "end_time": "2023-11-13T18:40:38.732303Z",
     "start_time": "2023-11-13T18:40:38.727941Z"
    }
   }
  },
  {
   "cell_type": "code",
   "execution_count": 18,
   "outputs": [],
   "source": [
    "df[\"tag2tag_by_model\"] = df[\"Tags\"].apply(lambda x: {tt for e in x if e in tag_to_tags for tt in tag_to_tags[e] if tt in my_set})"
   ],
   "metadata": {
    "collapsed": false,
    "ExecuteTime": {
     "end_time": "2023-11-13T18:40:48.851196Z",
     "start_time": "2023-11-13T18:40:48.845146Z"
    }
   }
  },
  {
   "cell_type": "code",
   "execution_count": 19,
   "outputs": [
    {
     "data": {
      "text/plain": "                                                 Quote  \\\n0        Mimì never forgets to see the beauty in life.   \n1    I will choose the bad guy in every story, I am...   \n2    Even perfect people are taught to practice imp...   \n3    The greater your capacity to love, the greater...   \n4                       We Turks are faithful muslims.   \n..                                                 ...   \n847          Your eyes show the strength of your soul.   \n848  Sometimes it is the people no one can imagine ...   \n849     A prophet is nothing without a new revelation.   \n850  I’m not mad. I’m in a perfectly happy mood, yo...   \n851  We cannot underestimate the power of love in o...   \n\n                                                  Tags        model_tags  \\\n0                           {beauty, life, forgetting}                {}   \n1                   {attraction, story, choosing, guy}                {}   \n2    {people, still, evening, society, practice, pe...                {}   \n3                {pain, feeling, capacity, love, feel}            {love}   \n4                                    {faithful, faith}                {}   \n..                                                 ...               ...   \n847                        {soul, show, eye, strength}      {admiration}   \n848      {people, doing, imagination, thing, anything}                {}   \n849               {prophet, revelation, news, nothing}                {}   \n850                         {happiness, madness, mood}  {joy, annoyance}   \n851  {understanding, power, feeling, love, underest...            {love}   \n\n    ds_tags         tag2tag                                   tag2tag_by_model  \n0        {}              {}                                                 {}  \n1        {}              {}                {confusion, realization, curiosity}  \n2        {}              {}  {fear, curiosity, disappointment, love, annoya...  \n3    {love}  {joy, sadness}                {confusion, realization, curiosity}  \n4        {}              {}                                                 {}  \n..      ...             ...                                                ...  \n847      {}              {}                                    {love, sadness}  \n848      {}     {curiosity}                                    {love, sadness}  \n849      {}              {}                                                 {}  \n850      {}      {optimism}                                  {fear, curiosity}  \n851  {love}           {joy}                       {confusion, love, curiosity}  \n\n[852 rows x 6 columns]",
      "text/html": "<div>\n<style scoped>\n    .dataframe tbody tr th:only-of-type {\n        vertical-align: middle;\n    }\n\n    .dataframe tbody tr th {\n        vertical-align: top;\n    }\n\n    .dataframe thead th {\n        text-align: right;\n    }\n</style>\n<table border=\"1\" class=\"dataframe\">\n  <thead>\n    <tr style=\"text-align: right;\">\n      <th></th>\n      <th>Quote</th>\n      <th>Tags</th>\n      <th>model_tags</th>\n      <th>ds_tags</th>\n      <th>tag2tag</th>\n      <th>tag2tag_by_model</th>\n    </tr>\n  </thead>\n  <tbody>\n    <tr>\n      <th>0</th>\n      <td>Mimì never forgets to see the beauty in life.</td>\n      <td>{beauty, life, forgetting}</td>\n      <td>{}</td>\n      <td>{}</td>\n      <td>{}</td>\n      <td>{}</td>\n    </tr>\n    <tr>\n      <th>1</th>\n      <td>I will choose the bad guy in every story, I am...</td>\n      <td>{attraction, story, choosing, guy}</td>\n      <td>{}</td>\n      <td>{}</td>\n      <td>{}</td>\n      <td>{confusion, realization, curiosity}</td>\n    </tr>\n    <tr>\n      <th>2</th>\n      <td>Even perfect people are taught to practice imp...</td>\n      <td>{people, still, evening, society, practice, pe...</td>\n      <td>{}</td>\n      <td>{}</td>\n      <td>{}</td>\n      <td>{fear, curiosity, disappointment, love, annoya...</td>\n    </tr>\n    <tr>\n      <th>3</th>\n      <td>The greater your capacity to love, the greater...</td>\n      <td>{pain, feeling, capacity, love, feel}</td>\n      <td>{love}</td>\n      <td>{love}</td>\n      <td>{joy, sadness}</td>\n      <td>{confusion, realization, curiosity}</td>\n    </tr>\n    <tr>\n      <th>4</th>\n      <td>We Turks are faithful muslims.</td>\n      <td>{faithful, faith}</td>\n      <td>{}</td>\n      <td>{}</td>\n      <td>{}</td>\n      <td>{}</td>\n    </tr>\n    <tr>\n      <th>...</th>\n      <td>...</td>\n      <td>...</td>\n      <td>...</td>\n      <td>...</td>\n      <td>...</td>\n      <td>...</td>\n    </tr>\n    <tr>\n      <th>847</th>\n      <td>Your eyes show the strength of your soul.</td>\n      <td>{soul, show, eye, strength}</td>\n      <td>{admiration}</td>\n      <td>{}</td>\n      <td>{}</td>\n      <td>{love, sadness}</td>\n    </tr>\n    <tr>\n      <th>848</th>\n      <td>Sometimes it is the people no one can imagine ...</td>\n      <td>{people, doing, imagination, thing, anything}</td>\n      <td>{}</td>\n      <td>{}</td>\n      <td>{curiosity}</td>\n      <td>{love, sadness}</td>\n    </tr>\n    <tr>\n      <th>849</th>\n      <td>A prophet is nothing without a new revelation.</td>\n      <td>{prophet, revelation, news, nothing}</td>\n      <td>{}</td>\n      <td>{}</td>\n      <td>{}</td>\n      <td>{}</td>\n    </tr>\n    <tr>\n      <th>850</th>\n      <td>I’m not mad. I’m in a perfectly happy mood, yo...</td>\n      <td>{happiness, madness, mood}</td>\n      <td>{joy, annoyance}</td>\n      <td>{}</td>\n      <td>{optimism}</td>\n      <td>{fear, curiosity}</td>\n    </tr>\n    <tr>\n      <th>851</th>\n      <td>We cannot underestimate the power of love in o...</td>\n      <td>{understanding, power, feeling, love, underest...</td>\n      <td>{love}</td>\n      <td>{love}</td>\n      <td>{joy}</td>\n      <td>{confusion, love, curiosity}</td>\n    </tr>\n  </tbody>\n</table>\n<p>852 rows × 6 columns</p>\n</div>"
     },
     "execution_count": 19,
     "metadata": {},
     "output_type": "execute_result"
    }
   ],
   "source": [
    "df"
   ],
   "metadata": {
    "collapsed": false,
    "ExecuteTime": {
     "end_time": "2023-11-13T18:40:58.720234Z",
     "start_time": "2023-11-13T18:40:58.716805Z"
    }
   }
  },
  {
   "cell_type": "markdown",
   "source": [
    "#### 1.2.5. Combine all tags\n",
    "Combine all tags into one column and save the dataset."
   ],
   "metadata": {
    "collapsed": false
   }
  },
  {
   "cell_type": "code",
   "execution_count": 20,
   "outputs": [],
   "source": [
    "df[\"all_tags\"] = df.apply(lambda x: x.model_tags.union(x.ds_tags).union(x.tag2tag).union(x.tag2tag_by_model), axis=1)"
   ],
   "metadata": {
    "collapsed": false,
    "ExecuteTime": {
     "end_time": "2023-11-13T18:41:20.796637Z",
     "start_time": "2023-11-13T18:41:20.791595Z"
    }
   }
  },
  {
   "cell_type": "code",
   "execution_count": 23,
   "outputs": [],
   "source": [
    "# make str\n",
    "df[\"all_tags\"] = df[\"all_tags\"].apply(lambda x: \",\".join(x))"
   ],
   "metadata": {
    "collapsed": false,
    "ExecuteTime": {
     "end_time": "2023-11-13T18:42:40.157073Z",
     "start_time": "2023-11-13T18:42:40.149146Z"
    }
   }
  },
  {
   "cell_type": "code",
   "execution_count": 24,
   "outputs": [],
   "source": [
    "df[['Quote', 'all_tags']].to_csv('data/quotes_with_predicted_tags.csv', index=False)"
   ],
   "metadata": {
    "collapsed": false,
    "ExecuteTime": {
     "end_time": "2023-11-13T18:42:40.589664Z",
     "start_time": "2023-11-13T18:42:40.583383Z"
    }
   }
  },
  {
   "cell_type": "markdown",
   "source": [
    "### 1.3. Add tags from the semeval dataset to the quotes dataset\n",
    "It is necessary to add tags from the go emotions dataset to the quotes dataset, because we will use the model fine-tuned on go emotions dataset.\n",
    "\n",
    "Here we will use the model [twitter-roberta-base-emotion-multilabel-latest](https://huggingface.co/cardiffnlp/twitter-roberta-base-emotion-multilabel-latest) model."
   ],
   "metadata": {
    "collapsed": false
   }
  },
  {
   "cell_type": "markdown",
   "source": [
    "#### 1.3.1. Use RoBERTa model to predict tags on quote text\n",
    "Get the tags from the model (with threshold = 0.2) and filter them using cleaned tag set."
   ],
   "metadata": {
    "collapsed": false
   }
  },
  {
   "cell_type": "code",
   "execution_count": 3,
   "outputs": [],
   "source": [
    "from transformers import pipeline\n",
    "pipe = pipeline(\"text-classification\", model=\"cardiffnlp/twitter-roberta-base-emotion-multilabel-latest\")"
   ],
   "metadata": {
    "collapsed": false,
    "ExecuteTime": {
     "end_time": "2023-11-13T19:00:23.846523Z",
     "start_time": "2023-11-13T19:00:21.042630Z"
    }
   }
  },
  {
   "cell_type": "code",
   "execution_count": 4,
   "outputs": [],
   "source": [
    "my_set = set(pipe.model.config.label2id.keys())"
   ],
   "metadata": {
    "collapsed": false,
    "ExecuteTime": {
     "end_time": "2023-11-13T19:00:25.401088Z",
     "start_time": "2023-11-13T19:00:25.393868Z"
    }
   }
  },
  {
   "cell_type": "code",
   "execution_count": 5,
   "outputs": [],
   "source": [
    "tags = pipe(list(df[\"Quote\"]), truncation=True, top_k=None)"
   ],
   "metadata": {
    "collapsed": false,
    "ExecuteTime": {
     "end_time": "2023-11-13T19:00:56.887333Z",
     "start_time": "2023-11-13T19:00:26.774725Z"
    }
   }
  },
  {
   "cell_type": "code",
   "execution_count": 11,
   "outputs": [],
   "source": [
    "df[\"model_tags\"] = [{tag[\"label\"] for tag in quote if tag[\"score\"] > 0.4 and tag[\"label\"] in my_set} for quote in tags]"
   ],
   "metadata": {
    "collapsed": false,
    "ExecuteTime": {
     "end_time": "2023-11-13T19:01:46.112305Z",
     "start_time": "2023-11-13T19:01:46.096348Z"
    }
   }
  },
  {
   "cell_type": "markdown",
   "source": [
    "#### 1.2.2. Add tags from the quotes dataset intersection with the go emotions dataset"
   ],
   "metadata": {
    "collapsed": false
   }
  },
  {
   "cell_type": "code",
   "execution_count": 13,
   "outputs": [],
   "source": [
    "df[\"ds_tags\"] = df[\"Tags\"].apply(lambda x: my_set.intersection(x))"
   ],
   "metadata": {
    "collapsed": false,
    "ExecuteTime": {
     "end_time": "2023-11-13T19:02:03.674276Z",
     "start_time": "2023-11-13T19:02:03.659546Z"
    }
   }
  },
  {
   "cell_type": "code",
   "execution_count": 14,
   "outputs": [
    {
     "data": {
      "text/plain": "                                                 Quote  \\\n0        Mimì never forgets to see the beauty in life.   \n1    I will choose the bad guy in every story, I am...   \n2    Even perfect people are taught to practice imp...   \n3    The greater your capacity to love, the greater...   \n4                       We Turks are faithful muslims.   \n..                                                 ...   \n847          Your eyes show the strength of your soul.   \n848  Sometimes it is the people no one can imagine ...   \n849     A prophet is nothing without a new revelation.   \n850  I’m not mad. I’m in a perfectly happy mood, yo...   \n851  We cannot underestimate the power of love in o...   \n\n                                                  Tags  \\\n0                           {beauty, life, forgetting}   \n1                   {choosing, story, guy, attraction}   \n2    {fitness, evening, practice, society, perfecti...   \n3                {feel, feeling, pain, capacity, love}   \n4                                    {faith, faithful}   \n..                                                 ...   \n847                        {eye, soul, strength, show}   \n848      {doing, anything, imagination, people, thing}   \n849               {prophet, nothing, revelation, news}   \n850                         {mood, happiness, madness}   \n851  {feel, living, feeling, understanding, underes...   \n\n                          model_tags ds_tags  \n0                    {optimism, joy}      {}  \n1                {anticipation, joy}      {}  \n2                         {optimism}      {}  \n3           {optimism, sadness, joy}  {love}  \n4                    {optimism, joy}      {}  \n..                               ...     ...  \n847           {trust, optimism, joy}      {}  \n848                       {optimism}      {}  \n849                  {optimism, joy}      {}  \n850  {anger, optimism, disgust, joy}      {}  \n851            {optimism, love, joy}  {love}  \n\n[852 rows x 4 columns]",
      "text/html": "<div>\n<style scoped>\n    .dataframe tbody tr th:only-of-type {\n        vertical-align: middle;\n    }\n\n    .dataframe tbody tr th {\n        vertical-align: top;\n    }\n\n    .dataframe thead th {\n        text-align: right;\n    }\n</style>\n<table border=\"1\" class=\"dataframe\">\n  <thead>\n    <tr style=\"text-align: right;\">\n      <th></th>\n      <th>Quote</th>\n      <th>Tags</th>\n      <th>model_tags</th>\n      <th>ds_tags</th>\n    </tr>\n  </thead>\n  <tbody>\n    <tr>\n      <th>0</th>\n      <td>Mimì never forgets to see the beauty in life.</td>\n      <td>{beauty, life, forgetting}</td>\n      <td>{optimism, joy}</td>\n      <td>{}</td>\n    </tr>\n    <tr>\n      <th>1</th>\n      <td>I will choose the bad guy in every story, I am...</td>\n      <td>{choosing, story, guy, attraction}</td>\n      <td>{anticipation, joy}</td>\n      <td>{}</td>\n    </tr>\n    <tr>\n      <th>2</th>\n      <td>Even perfect people are taught to practice imp...</td>\n      <td>{fitness, evening, practice, society, perfecti...</td>\n      <td>{optimism}</td>\n      <td>{}</td>\n    </tr>\n    <tr>\n      <th>3</th>\n      <td>The greater your capacity to love, the greater...</td>\n      <td>{feel, feeling, pain, capacity, love}</td>\n      <td>{optimism, sadness, joy}</td>\n      <td>{love}</td>\n    </tr>\n    <tr>\n      <th>4</th>\n      <td>We Turks are faithful muslims.</td>\n      <td>{faith, faithful}</td>\n      <td>{optimism, joy}</td>\n      <td>{}</td>\n    </tr>\n    <tr>\n      <th>...</th>\n      <td>...</td>\n      <td>...</td>\n      <td>...</td>\n      <td>...</td>\n    </tr>\n    <tr>\n      <th>847</th>\n      <td>Your eyes show the strength of your soul.</td>\n      <td>{eye, soul, strength, show}</td>\n      <td>{trust, optimism, joy}</td>\n      <td>{}</td>\n    </tr>\n    <tr>\n      <th>848</th>\n      <td>Sometimes it is the people no one can imagine ...</td>\n      <td>{doing, anything, imagination, people, thing}</td>\n      <td>{optimism}</td>\n      <td>{}</td>\n    </tr>\n    <tr>\n      <th>849</th>\n      <td>A prophet is nothing without a new revelation.</td>\n      <td>{prophet, nothing, revelation, news}</td>\n      <td>{optimism, joy}</td>\n      <td>{}</td>\n    </tr>\n    <tr>\n      <th>850</th>\n      <td>I’m not mad. I’m in a perfectly happy mood, yo...</td>\n      <td>{mood, happiness, madness}</td>\n      <td>{anger, optimism, disgust, joy}</td>\n      <td>{}</td>\n    </tr>\n    <tr>\n      <th>851</th>\n      <td>We cannot underestimate the power of love in o...</td>\n      <td>{feel, living, feeling, understanding, underes...</td>\n      <td>{optimism, love, joy}</td>\n      <td>{love}</td>\n    </tr>\n  </tbody>\n</table>\n<p>852 rows × 4 columns</p>\n</div>"
     },
     "execution_count": 14,
     "metadata": {},
     "output_type": "execute_result"
    }
   ],
   "source": [
    "df"
   ],
   "metadata": {
    "collapsed": false,
    "ExecuteTime": {
     "end_time": "2023-11-13T19:02:04.218024Z",
     "start_time": "2023-11-13T19:02:04.215038Z"
    }
   }
  },
  {
   "cell_type": "markdown",
   "source": [
    "#### 1.2.3. Use `fasttext` embeddings to find similar tags"
   ],
   "metadata": {
    "collapsed": false
   }
  },
  {
   "cell_type": "code",
   "execution_count": 16,
   "outputs": [
    {
     "name": "stderr",
     "output_type": "stream",
     "text": [
      "Warning : `load_model` does not return WordVectorModel or SupervisedModel any more, but a `FastText` object which is very similar.\n"
     ]
    }
   ],
   "source": [
    "import fasttext\n",
    "from sklearn.metrics.pairwise import cosine_similarity\n",
    "\n",
    "ft = fasttext.load_model('../cc.en.300.bin')"
   ],
   "metadata": {
    "collapsed": false,
    "ExecuteTime": {
     "end_time": "2023-11-13T19:02:22.920502Z",
     "start_time": "2023-11-13T19:02:22.914990Z"
    }
   }
  },
  {
   "cell_type": "code",
   "execution_count": 17,
   "outputs": [],
   "source": [
    "my_set_embed = [ft.get_word_vector(e) for e in my_set]"
   ],
   "metadata": {
    "collapsed": false,
    "ExecuteTime": {
     "end_time": "2023-11-13T19:02:24.134289Z",
     "start_time": "2023-11-13T19:02:24.130080Z"
    }
   }
  },
  {
   "cell_type": "code",
   "execution_count": 18,
   "outputs": [
    {
     "data": {
      "text/plain": "  0%|          | 0/1650 [00:00<?, ?it/s]",
      "application/vnd.jupyter.widget-view+json": {
       "version_major": 2,
       "version_minor": 0,
       "model_id": "97991dc4ed76469da46f85ab00775767"
      }
     },
     "metadata": {},
     "output_type": "display_data"
    }
   ],
   "source": [
    "from tqdm.notebook import tqdm\n",
    "\n",
    "all_ds_tags = set(df[\"Tags\"].explode().value_counts().keys())\n",
    "tag_to_tag = {}\n",
    "\n",
    "for e in tqdm(all_ds_tags):\n",
    "    for w, emb in zip(my_set, my_set_embed):\n",
    "        if cosine_similarity([ft.get_word_vector(e)], [emb])[0][0] > 0.5:\n",
    "            tag_to_tag[e] = w"
   ],
   "metadata": {
    "collapsed": false,
    "ExecuteTime": {
     "end_time": "2023-11-13T19:02:29.019379Z",
     "start_time": "2023-11-13T19:02:26.431217Z"
    }
   }
  },
  {
   "cell_type": "markdown",
   "source": [
    "Clean pairs of tags by hand."
   ],
   "metadata": {
    "collapsed": false
   }
  },
  {
   "cell_type": "code",
   "execution_count": 19,
   "outputs": [
    {
     "data": {
      "text/plain": "{'regret': 'sadness',\n 'pleasure': 'joy',\n 'disappointment': 'surprise',\n 'lov': 'love',\n 'feeling': 'sadness',\n 'passion': 'love',\n 'sadness': 'pessimism',\n 'happiness': 'optimism',\n 'delight': 'surprise',\n 'expectation': 'anticipation',\n 'agony': 'sadness',\n 'tragedy': 'sadness',\n 'selfishness': 'anger',\n 'self-confidence': 'optimism',\n 'confidence': 'optimism',\n 'pain': 'sadness',\n 'emotion': 'sadness',\n 'fear': 'sadness',\n 'optimist': 'pessimism',\n 'sorrow': 'joy',\n 'laughter': 'joy',\n 'apprehension': 'anticipation',\n 'embarrassment': 'disgust',\n 'joy': 'love',\n 'hatred': 'disgust',\n 'jealousy': 'disgust',\n 'anxiety': 'sadness',\n 'excitement': 'optimism',\n 'gratitude': 'joy',\n 'love': 'love',\n 'admire': 'love',\n 'trust': 'trust',\n 'amazement': 'joy',\n 'pride': 'joy',\n 'danger': 'fear',\n 'hate': 'love',\n 'rage': 'disgust',\n 'shame': 'disgust',\n 'worry': 'fear',\n 'loneliness': 'sadness'}"
     },
     "execution_count": 19,
     "metadata": {},
     "output_type": "execute_result"
    }
   ],
   "source": [
    "tag_to_tag"
   ],
   "metadata": {
    "collapsed": false,
    "ExecuteTime": {
     "end_time": "2023-11-13T19:02:30.783606Z",
     "start_time": "2023-11-13T19:02:30.780703Z"
    }
   }
  },
  {
   "cell_type": "code",
   "execution_count": 20,
   "outputs": [],
   "source": [
    "cleaned_tag2tag = {'regret': 'sadness',\n",
    " 'pleasure': 'joy',\n",
    " 'lov': 'love',\n",
    " 'passion': 'love',\n",
    " 'sadness': 'pessimism',\n",
    " 'happiness': 'optimism',\n",
    " 'delight': 'surprise',\n",
    " 'expectation': 'anticipation',\n",
    " 'agony': 'sadness',\n",
    " 'tragedy': 'sadness',\n",
    " 'selfishness': 'anger',\n",
    " 'self-confidence': 'optimism',\n",
    " 'confidence': 'optimism',\n",
    " 'pain': 'sadness',\n",
    " 'laughter': 'joy',\n",
    " 'apprehension': 'anticipation',\n",
    " 'hatred': 'disgust',\n",
    " 'jealousy': 'disgust',\n",
    " 'anxiety': 'sadness',\n",
    " 'excitement': 'optimism',\n",
    " 'gratitude': 'joy',\n",
    " 'love': 'love',\n",
    " 'admire': 'love',\n",
    " 'trust': 'trust',\n",
    " 'amazement': 'joy',\n",
    " 'pride': 'joy',\n",
    " 'danger': 'fear',\n",
    " 'hate': 'love',\n",
    " 'rage': 'disgust',\n",
    " 'shame': 'disgust',\n",
    " 'worry': 'fear',\n",
    " 'loneliness': 'sadness'}"
   ],
   "metadata": {
    "collapsed": false,
    "ExecuteTime": {
     "end_time": "2023-11-13T19:06:41.411495Z",
     "start_time": "2023-11-13T19:06:41.401894Z"
    }
   }
  },
  {
   "cell_type": "markdown",
   "source": [
    "Add to the dataset"
   ],
   "metadata": {
    "collapsed": false
   }
  },
  {
   "cell_type": "code",
   "execution_count": 21,
   "outputs": [],
   "source": [
    "df[\"tag2tag\"] = df[\"Tags\"].apply(lambda x: {cleaned_tag2tag[e] for e in x if e in cleaned_tag2tag})"
   ],
   "metadata": {
    "collapsed": false,
    "ExecuteTime": {
     "end_time": "2023-11-13T19:06:42.823075Z",
     "start_time": "2023-11-13T19:06:42.815840Z"
    }
   }
  },
  {
   "cell_type": "markdown",
   "source": [
    "#### 1.2.4. Use RoBERTa model to predict mapping of tags"
   ],
   "metadata": {
    "collapsed": false
   }
  },
  {
   "cell_type": "code",
   "execution_count": 22,
   "outputs": [
    {
     "data": {
      "text/plain": "  0%|          | 0/1650 [00:00<?, ?it/s]",
      "application/vnd.jupyter.widget-view+json": {
       "version_major": 2,
       "version_minor": 0,
       "model_id": "f9a247d357f24167a832d1d7e06e250a"
      }
     },
     "metadata": {},
     "output_type": "display_data"
    }
   ],
   "source": [
    "tags = []\n",
    "for e in tqdm(all_ds_tags):\n",
    "    tags.append(pipe(e, truncation=True, top_k=None))"
   ],
   "metadata": {
    "collapsed": false,
    "ExecuteTime": {
     "end_time": "2023-11-13T19:07:37.116512Z",
     "start_time": "2023-11-13T19:06:45.690417Z"
    }
   }
  },
  {
   "cell_type": "code",
   "execution_count": 26,
   "outputs": [],
   "source": [
    "postpr = [{tag[\"label\"] for tag in quote if tag[\"score\"] > 0.5 and tag[\"label\"] in my_set} for quote in tags]\n",
    "tag_to_tags = {tag: tags for tag, tags in zip(all_ds_tags, postpr) if len(tags) != 0}"
   ],
   "metadata": {
    "collapsed": false,
    "ExecuteTime": {
     "end_time": "2023-11-13T19:08:05.204303Z",
     "start_time": "2023-11-13T19:08:05.194378Z"
    }
   }
  },
  {
   "cell_type": "code",
   "execution_count": 27,
   "outputs": [],
   "source": [
    "df[\"tag2tag_by_model\"] = df[\"Tags\"].apply(lambda x: {tt for e in x if e in tag_to_tags for tt in tag_to_tags[e] if tt in my_set})"
   ],
   "metadata": {
    "collapsed": false,
    "ExecuteTime": {
     "end_time": "2023-11-13T19:08:05.465524Z",
     "start_time": "2023-11-13T19:08:05.462907Z"
    }
   }
  },
  {
   "cell_type": "markdown",
   "source": [
    "#### 1.2.5. Combine all tags\n",
    "Combine all tags into one column and save the dataset."
   ],
   "metadata": {
    "collapsed": false
   }
  },
  {
   "cell_type": "code",
   "execution_count": 29,
   "outputs": [],
   "source": [
    "df[\"all_tags\"] = df.apply(lambda x: x.model_tags.union(x.ds_tags).union(x.tag2tag).union(x.tag2tag_by_model), axis=1)"
   ],
   "metadata": {
    "collapsed": false,
    "ExecuteTime": {
     "end_time": "2023-11-13T19:08:31.365464Z",
     "start_time": "2023-11-13T19:08:31.356480Z"
    }
   }
  },
  {
   "cell_type": "code",
   "execution_count": 30,
   "outputs": [],
   "source": [
    "# make str\n",
    "df[\"all_tags\"] = df[\"all_tags\"].apply(lambda x: \",\".join(x))"
   ],
   "metadata": {
    "collapsed": false,
    "ExecuteTime": {
     "end_time": "2023-11-13T19:08:33.587779Z",
     "start_time": "2023-11-13T19:08:33.576835Z"
    }
   }
  },
  {
   "cell_type": "code",
   "execution_count": 32,
   "outputs": [],
   "source": [
    "df[['Quote', 'all_tags']].to_csv('../data/quotes_with_predicted_tags_semeval.csv', index=False)"
   ],
   "metadata": {
    "collapsed": false,
    "ExecuteTime": {
     "end_time": "2023-11-13T19:08:45.199869Z",
     "start_time": "2023-11-13T19:08:45.191176Z"
    }
   }
  },
  {
   "cell_type": "code",
   "execution_count": 33,
   "outputs": [
    {
     "data": {
      "text/plain": "                                                 Quote  \\\n0        Mimì never forgets to see the beauty in life.   \n1    I will choose the bad guy in every story, I am...   \n2    Even perfect people are taught to practice imp...   \n3    The greater your capacity to love, the greater...   \n4                       We Turks are faithful muslims.   \n..                                                 ...   \n847          Your eyes show the strength of your soul.   \n848  Sometimes it is the people no one can imagine ...   \n849     A prophet is nothing without a new revelation.   \n850  I’m not mad. I’m in a perfectly happy mood, yo...   \n851  We cannot underestimate the power of love in o...   \n\n                                                  Tags  \\\n0                           {beauty, life, forgetting}   \n1                   {choosing, story, guy, attraction}   \n2    {fitness, evening, practice, society, perfecti...   \n3                {feel, feeling, pain, capacity, love}   \n4                                    {faith, faithful}   \n..                                                 ...   \n847                        {eye, soul, strength, show}   \n848      {doing, anything, imagination, people, thing}   \n849               {prophet, nothing, revelation, news}   \n850                         {mood, happiness, madness}   \n851  {feel, living, feeling, understanding, underes...   \n\n                          model_tags ds_tags          tag2tag  \\\n0                    {optimism, joy}      {}               {}   \n1                {anticipation, joy}      {}               {}   \n2                         {optimism}      {}               {}   \n3           {optimism, sadness, joy}  {love}  {love, sadness}   \n4                    {optimism, joy}      {}               {}   \n..                               ...     ...              ...   \n847           {trust, optimism, joy}      {}               {}   \n848                       {optimism}      {}               {}   \n849                  {optimism, joy}      {}               {}   \n850  {anger, optimism, disgust, joy}      {}       {optimism}   \n851            {optimism, love, joy}  {love}           {love}   \n\n                                      tag2tag_by_model  \\\n0                    {optimism, sadness, disgust, joy}   \n1                                    {optimism, anger}   \n2             {anger, sadness, disgust, joy, optimism}   \n3    {sadness, disgust, joy, optimism, love, pessim...   \n4                                      {optimism, joy}   \n..                                                 ...   \n847                                    {optimism, joy}   \n848      {anticipation, anger, disgust, joy, optimism}   \n849            {sadness, disgust, joy, optimism, love}   \n850           {anger, sadness, disgust, joy, optimism}   \n851       {anticipation, sadness, joy, optimism, love}   \n\n                                        all_tags  \n0                   optimism,sadness,disgust,joy  \n1                anticipation,optimism,anger,joy  \n2             optimism,anger,sadness,disgust,joy  \n3    sadness,disgust,joy,optimism,love,pessimism  \n4                                   optimism,joy  \n..                                           ...  \n847                           trust,optimism,joy  \n848      optimism,anticipation,anger,disgust,joy  \n849            optimism,sadness,love,disgust,joy  \n850           anger,sadness,disgust,joy,optimism  \n851       anticipation,sadness,joy,optimism,love  \n\n[852 rows x 7 columns]",
      "text/html": "<div>\n<style scoped>\n    .dataframe tbody tr th:only-of-type {\n        vertical-align: middle;\n    }\n\n    .dataframe tbody tr th {\n        vertical-align: top;\n    }\n\n    .dataframe thead th {\n        text-align: right;\n    }\n</style>\n<table border=\"1\" class=\"dataframe\">\n  <thead>\n    <tr style=\"text-align: right;\">\n      <th></th>\n      <th>Quote</th>\n      <th>Tags</th>\n      <th>model_tags</th>\n      <th>ds_tags</th>\n      <th>tag2tag</th>\n      <th>tag2tag_by_model</th>\n      <th>all_tags</th>\n    </tr>\n  </thead>\n  <tbody>\n    <tr>\n      <th>0</th>\n      <td>Mimì never forgets to see the beauty in life.</td>\n      <td>{beauty, life, forgetting}</td>\n      <td>{optimism, joy}</td>\n      <td>{}</td>\n      <td>{}</td>\n      <td>{optimism, sadness, disgust, joy}</td>\n      <td>optimism,sadness,disgust,joy</td>\n    </tr>\n    <tr>\n      <th>1</th>\n      <td>I will choose the bad guy in every story, I am...</td>\n      <td>{choosing, story, guy, attraction}</td>\n      <td>{anticipation, joy}</td>\n      <td>{}</td>\n      <td>{}</td>\n      <td>{optimism, anger}</td>\n      <td>anticipation,optimism,anger,joy</td>\n    </tr>\n    <tr>\n      <th>2</th>\n      <td>Even perfect people are taught to practice imp...</td>\n      <td>{fitness, evening, practice, society, perfecti...</td>\n      <td>{optimism}</td>\n      <td>{}</td>\n      <td>{}</td>\n      <td>{anger, sadness, disgust, joy, optimism}</td>\n      <td>optimism,anger,sadness,disgust,joy</td>\n    </tr>\n    <tr>\n      <th>3</th>\n      <td>The greater your capacity to love, the greater...</td>\n      <td>{feel, feeling, pain, capacity, love}</td>\n      <td>{optimism, sadness, joy}</td>\n      <td>{love}</td>\n      <td>{love, sadness}</td>\n      <td>{sadness, disgust, joy, optimism, love, pessim...</td>\n      <td>sadness,disgust,joy,optimism,love,pessimism</td>\n    </tr>\n    <tr>\n      <th>4</th>\n      <td>We Turks are faithful muslims.</td>\n      <td>{faith, faithful}</td>\n      <td>{optimism, joy}</td>\n      <td>{}</td>\n      <td>{}</td>\n      <td>{optimism, joy}</td>\n      <td>optimism,joy</td>\n    </tr>\n    <tr>\n      <th>...</th>\n      <td>...</td>\n      <td>...</td>\n      <td>...</td>\n      <td>...</td>\n      <td>...</td>\n      <td>...</td>\n      <td>...</td>\n    </tr>\n    <tr>\n      <th>847</th>\n      <td>Your eyes show the strength of your soul.</td>\n      <td>{eye, soul, strength, show}</td>\n      <td>{trust, optimism, joy}</td>\n      <td>{}</td>\n      <td>{}</td>\n      <td>{optimism, joy}</td>\n      <td>trust,optimism,joy</td>\n    </tr>\n    <tr>\n      <th>848</th>\n      <td>Sometimes it is the people no one can imagine ...</td>\n      <td>{doing, anything, imagination, people, thing}</td>\n      <td>{optimism}</td>\n      <td>{}</td>\n      <td>{}</td>\n      <td>{anticipation, anger, disgust, joy, optimism}</td>\n      <td>optimism,anticipation,anger,disgust,joy</td>\n    </tr>\n    <tr>\n      <th>849</th>\n      <td>A prophet is nothing without a new revelation.</td>\n      <td>{prophet, nothing, revelation, news}</td>\n      <td>{optimism, joy}</td>\n      <td>{}</td>\n      <td>{}</td>\n      <td>{sadness, disgust, joy, optimism, love}</td>\n      <td>optimism,sadness,love,disgust,joy</td>\n    </tr>\n    <tr>\n      <th>850</th>\n      <td>I’m not mad. I’m in a perfectly happy mood, yo...</td>\n      <td>{mood, happiness, madness}</td>\n      <td>{anger, optimism, disgust, joy}</td>\n      <td>{}</td>\n      <td>{optimism}</td>\n      <td>{anger, sadness, disgust, joy, optimism}</td>\n      <td>anger,sadness,disgust,joy,optimism</td>\n    </tr>\n    <tr>\n      <th>851</th>\n      <td>We cannot underestimate the power of love in o...</td>\n      <td>{feel, living, feeling, understanding, underes...</td>\n      <td>{optimism, love, joy}</td>\n      <td>{love}</td>\n      <td>{love}</td>\n      <td>{anticipation, sadness, joy, optimism, love}</td>\n      <td>anticipation,sadness,joy,optimism,love</td>\n    </tr>\n  </tbody>\n</table>\n<p>852 rows × 7 columns</p>\n</div>"
     },
     "execution_count": 33,
     "metadata": {},
     "output_type": "execute_result"
    }
   ],
   "source": [
    "df"
   ],
   "metadata": {
    "collapsed": false,
    "ExecuteTime": {
     "end_time": "2023-11-13T19:08:50.872510Z",
     "start_time": "2023-11-13T19:08:50.868739Z"
    }
   }
  },
  {
   "cell_type": "markdown",
   "metadata": {},
   "source": [
    "## 2. More Quotes by Parsing Some Sources"
   ]
  },
  {
   "cell_type": "markdown",
   "metadata": {},
   "source": [
    "TODO: if needed"
   ]
  }
 ],
 "metadata": {
  "kernelspec": {
   "display_name": "vladimir-torch",
   "language": "python",
   "name": "python3"
  },
  "language_info": {
   "codemirror_mode": {
    "name": "ipython",
    "version": 3
   },
   "file_extension": ".py",
   "mimetype": "text/x-python",
   "name": "python",
   "nbconvert_exporter": "python",
   "pygments_lexer": "ipython3",
   "version": "3.10.12"
  }
 },
 "nbformat": 4,
 "nbformat_minor": 2
}
