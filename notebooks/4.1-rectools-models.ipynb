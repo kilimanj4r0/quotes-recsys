{
 "cells": [
  {
   "cell_type": "markdown",
   "metadata": {},
   "source": [
    "# Experiments with models from RecTools"
   ]
  },
  {
   "cell_type": "code",
   "execution_count": 2,
   "metadata": {},
   "outputs": [
    {
     "name": "stdout",
     "output_type": "stream",
     "text": [
      "<class 'pandas.core.frame.DataFrame'>\n",
      "RangeIndex: 100 entries, 0 to 99\n",
      "Data columns (total 6 columns):\n",
      " #   Column     Non-Null Count  Dtype         \n",
      "---  ------     --------------  -----         \n",
      " 0   User       100 non-null    int64         \n",
      " 1   Item       100 non-null    int64         \n",
      " 2   weight     100 non-null    int64         \n",
      " 3   Timestamp  100 non-null    datetime64[ns]\n",
      " 4   Array1     100 non-null    object        \n",
      " 5   Array2     100 non-null    object        \n",
      "dtypes: datetime64[ns](1), int64(3), object(2)\n",
      "memory usage: 4.8+ KB\n",
      "None\n"
     ]
    }
   ],
   "source": [
    "import pandas as pd\n",
    "import numpy as np\n",
    "from datetime import timedelta\n",
    "\n",
    "# Set a random seed for reproducibility\n",
    "np.random.seed(42)\n",
    "\n",
    "# Generate a DataFrame with 100 rows\n",
    "data = []\n",
    "start_time = pd.Timestamp.now()\n",
    "time_step = timedelta(minutes=1)\n",
    "\n",
    "for i in range(100):\n",
    "    array1 = np.random.randint(-10, 10, size=(2,))\n",
    "    array2 = np.random.randint(-10, 10, size=(2,))\n",
    "    label = np.random.choice([-1, 1], size=(1,))[0]\n",
    "    timestamp = start_time + i * time_step\n",
    "    data.append([i, i+100, label, timestamp, array1.tolist(), array2.tolist()])\n",
    "    # data.append([i, i+100, label, timestamp])\n",
    "    # data.append([array1.tolist(), array2.tolist(), label, timestamp])\n",
    "\n",
    "# Create the DataFrame\n",
    "columns = ['User', 'Item', 'weight', 'Timestamp', 'Array1', 'Array2']\n",
    "df = pd.DataFrame(data, columns=columns)\n",
    "df.to_csv('../data/temp.csv')\n",
    "# Display the DataFrame\n",
    "print(df.info())"
   ]
  },
  {
   "cell_type": "markdown",
   "metadata": {},
   "source": [
    "## Reading data into RecTools format"
   ]
  },
  {
   "cell_type": "code",
   "execution_count": 2,
   "metadata": {},
   "outputs": [],
   "source": [
    "from rectools import Columns\n",
    "from rectools.dataset import Dataset, DenseFeatures\n",
    "import pandas as pd\n",
    "import pickle\n",
    "\n",
    "\n",
    "quotes_labeled_reddit = pd.read_csv('../data/quotes_labeled_reddit.csv', index_col=0)\n",
    "quotes_labeled_reddit = quotes_labeled_reddit.replace('\\r\\n','\\n', regex=True)\n",
    "# quotes_reddit_dense = DenseFeatures.from_iterables(\n",
    "#     [el.to_list() for i, el in quotes_labeled_reddit.drop('Text', axis=1).iterrows()],\n",
    "#     names=quotes_labeled_reddit.columns.to_list()[1:]\n",
    "#     )\n",
    "# print(quotes_reddit_dense)\n",
    "diaries_labeled_reddit = pd.read_csv('../data/diaries_labeled_reddit.csv', index_col=0)\n",
    "# diaries_reddit_dense = DenseFeatures.from_iterables(\n",
    "#     [el.to_list() for i, el in diaries_labeled_reddit.drop('Text', axis=1).iterrows()],\n",
    "#     names=diaries_labeled_reddit.columns.to_list()[1:]\n",
    "#     )\n",
    "# print(diaries_labeled_reddit)"
   ]
  },
  {
   "cell_type": "code",
   "execution_count": 10,
   "metadata": {},
   "outputs": [
    {
     "data": {
      "text/plain": [
       "Dataset(user_id_map=IdMap(external_ids=array([  0,   1,   2,   3,   4,   5,   6,   7,   8,   9,  10,  11,  12,\n",
       "        13,  14,  15,  16,  17,  18,  19,  20,  21,  22,  23,  24,  25,\n",
       "        26,  27,  28,  29,  30,  31,  32,  33,  34,  35,  36,  37,  38,\n",
       "        39,  40,  41,  42,  43,  44,  45,  46,  47,  48,  49,  50,  51,\n",
       "        52,  53,  54,  55,  56,  57,  58,  59,  60,  61,  62,  63,  64,\n",
       "        65,  66,  67,  68,  69,  70,  71,  72,  73,  74,  75,  76,  77,\n",
       "        78,  79,  80,  81,  82,  83,  84,  85,  86,  87,  88,  89,  90,\n",
       "        91,  92,  93,  94,  95,  96,  97,  98,  99, 100, 101, 102, 103,\n",
       "       104, 105, 106, 107, 108, 109, 110, 111, 112, 113, 114, 115, 116,\n",
       "       117, 118, 119, 120, 121, 122, 123, 124, 125, 126, 127, 128, 129,\n",
       "       130, 131, 132, 133, 134, 135, 136, 137, 138, 139, 140, 141, 142,\n",
       "       143, 144, 145, 146, 147, 148, 149, 150, 151, 152, 153, 154, 155,\n",
       "       156, 157, 158, 159, 160, 161, 162, 163, 164, 165, 166, 167, 168,\n",
       "       169, 170, 171, 172, 173, 174, 175, 176, 177, 178, 179, 180, 181,\n",
       "       182, 183, 184, 185, 186, 187, 188, 189, 190, 191, 192, 193, 194,\n",
       "       195, 196, 197, 198, 199, 200, 201, 202, 203, 204, 205, 206, 207,\n",
       "       208, 209, 210, 211, 212, 213, 214, 215, 216, 217, 218, 219, 220,\n",
       "       221, 222, 223, 224, 225, 226, 227, 228, 229, 230, 231, 232, 233,\n",
       "       234, 235, 236, 237, 238, 239, 240, 241, 242, 243, 244, 245, 246,\n",
       "       247, 248, 249, 250, 251, 252, 253, 254, 255, 256, 257, 258, 259,\n",
       "       260, 261, 262, 263, 264, 265, 266, 267, 268, 269, 270, 271, 272,\n",
       "       273, 274, 275, 276, 277, 278, 279, 280, 281, 282, 283, 284, 285,\n",
       "       286, 287, 288, 289, 290, 291, 292, 293, 294, 295, 296, 297, 298,\n",
       "       299, 300, 301, 302, 303, 304, 305, 306, 307, 308, 309, 310, 311,\n",
       "       312, 313, 314, 315, 316, 317, 318, 319, 320, 321, 322, 323, 324,\n",
       "       325, 326, 327, 328, 329, 330, 331, 332, 333, 334, 335, 336, 337,\n",
       "       338, 339, 340, 341, 342, 343, 344, 345, 346, 347, 348, 349, 350,\n",
       "       351, 352, 353, 354, 355, 356, 357, 358, 359, 360, 361, 362, 363,\n",
       "       364, 365, 366, 367, 368, 369, 370, 371, 372, 373, 374, 375, 376,\n",
       "       377, 378, 379, 380, 381, 382, 383, 384, 385, 386, 387, 388, 389,\n",
       "       390, 391, 392, 393, 394, 395, 396, 397, 398, 399, 400, 401, 402,\n",
       "       403, 404, 405, 406, 407, 408, 409, 410, 411, 412, 413, 414, 415,\n",
       "       416, 417, 418, 419, 420, 421, 422, 423, 424, 425, 426, 427, 428,\n",
       "       429, 430, 431, 432, 433, 434, 435, 436, 437, 438, 439, 440, 441,\n",
       "       442, 443, 444, 445, 446, 447, 448, 449, 450, 451, 452, 453, 454,\n",
       "       455, 456, 457, 458, 459, 460, 461, 462, 463, 464, 465, 466, 467,\n",
       "       468, 469, 470, 471, 472, 473, 474, 475, 476, 477, 478, 479, 480,\n",
       "       481, 482, 483, 484, 485, 486, 487, 488, 489, 490, 491, 492, 493,\n",
       "       494, 495, 496, 497, 498, 499, 500, 501, 502, 503, 504, 505, 506,\n",
       "       507, 508, 509, 510, 511, 512, 513, 514, 515, 516, 517, 518])), item_id_map=IdMap(external_ids=array([760, 554,   0, 224, 566, 826,  48, 321,  75,  57, 315,  30, 668,\n",
       "       520, 758, 156, 472, 674, 532, 839, 403, 239, 460, 287, 131, 141,\n",
       "       414, 461,  53, 816,  58, 628, 306, 590, 422, 200, 117, 812, 282,\n",
       "       256, 328, 771,  74, 395, 471, 303, 453, 596,  45, 650, 767, 297,\n",
       "       240, 676, 185, 429, 773, 574, 455, 569, 556,  63, 794, 827, 340,\n",
       "       682, 484, 251, 352, 135, 611, 431, 331, 467, 232, 843, 705, 572,\n",
       "       408, 549, 790, 243, 263, 152, 268, 490, 409, 736, 804,  18,  13,\n",
       "       248,  16, 672, 354, 214, 818, 118, 656, 537, 154, 333, 296, 751,\n",
       "       433,  68, 372, 179, 762, 161, 469,  72, 691, 685, 807, 238, 189,\n",
       "        26, 107, 831, 557, 215, 376, 712, 168, 398,  25, 316, 844, 496,\n",
       "       290, 335, 714, 627, 769, 176, 601, 732,  76,  15, 178,  20, 257,\n",
       "       310, 730, 358, 499, 665, 454,  42, 353, 162, 465, 317, 420, 441,\n",
       "       620, 151, 273, 216, 555, 150, 766, 613, 241, 448,  79, 711, 120,\n",
       "        77,  62, 210, 610, 518, 426, 851, 643, 424, 124, 137, 392, 267,\n",
       "        11, 583, 530, 782, 740,  71, 313, 147, 680, 449, 407, 421, 275,\n",
       "       697,  51, 833, 222, 199, 788, 694, 250, 565, 440, 780, 742, 735,\n",
       "       468, 797, 728, 231, 401, 172, 545, 727, 362, 445, 563, 693, 723,\n",
       "       842, 817, 695, 219, 523, 272, 552, 122, 477, 492, 442, 332, 599,\n",
       "       527, 413, 399, 541, 531, 186, 277, 236, 394,  60, 748, 436, 169,\n",
       "       639, 103, 616, 558, 486, 194, 425, 835, 225, 702, 226, 128])), interactions=Interactions(df=     user_id  item_id  weight                   datetime\n",
       "0          0        0    -1.0 2023-11-28 11:10:47.645594\n",
       "1          1        1    -1.0 2023-11-28 11:11:47.645594\n",
       "2          2        2    -1.0 2023-11-28 11:12:47.645594\n",
       "3          3        3    -1.0 2023-11-28 11:13:47.645594\n",
       "4          4        4    -1.0 2023-11-28 11:14:47.645594\n",
       "..       ...      ...     ...                        ...\n",
       "514      514      207     1.0 2023-11-28 19:44:47.645594\n",
       "515      515       13    -1.0 2023-11-28 19:45:47.645594\n",
       "516      516       84    -1.0 2023-11-28 19:46:47.645594\n",
       "517      517      121    -1.0 2023-11-28 19:47:47.645594\n",
       "518      518      258    -1.0 2023-11-28 19:48:47.645594\n",
       "\n",
       "[519 rows x 4 columns]), user_features=DenseFeatures(values=array([[0.5109765 , 0.48795703, 0.08612798, ..., 0.002605  , 0.00255211,\n",
       "        0.00235655],\n",
       "       [0.00242582, 0.00971482, 0.00363265, ..., 0.00086568, 0.00146346,\n",
       "        0.00092784],\n",
       "       [0.00938346, 0.04687016, 0.00155711, ..., 0.00064013, 0.00080117,\n",
       "        0.00094855],\n",
       "       ...,\n",
       "       [0.00603161, 0.0657874 , 0.00442955, ..., 0.00100483, 0.00122893,\n",
       "        0.00144656],\n",
       "       [0.01704638, 0.02009185, 0.00150667, ..., 0.00079552, 0.00117572,\n",
       "        0.00122048],\n",
       "       [0.01469606, 0.02432536, 0.00166716, ..., 0.00071671, 0.00115349,\n",
       "        0.00107869]], dtype=float32), names=('love', 'excitement', 'nervousness', 'joy', 'fear', 'caring', 'approval', 'neutral', 'curiosity', 'desire', 'surprise', 'confusion', 'admiration', 'sadness', 'realization', 'optimism', 'disapproval', 'disappointment', 'relief', 'annoyance', 'anger', 'gratitude', 'pride', 'amusement', 'remorse', 'disgust', 'grief', 'embarrassment')), item_features=DenseFeatures(values=array([[1.82258502e-01, 3.96781461e-03, 7.59247784e-03, ...,\n",
       "        2.97649782e-02, 1.23820407e-02, 8.12875666e-03],\n",
       "       [6.49715900e-01, 1.09066628e-03, 1.12337992e-02, ...,\n",
       "        3.16220656e-04, 8.57970910e-04, 3.42069339e-04],\n",
       "       [5.51235795e-01, 1.87881708e-01, 6.92746043e-02, ...,\n",
       "        5.09377103e-04, 4.30778367e-04, 2.87138944e-04],\n",
       "       ...,\n",
       "       [7.61058390e-01, 3.73025471e-03, 3.99721460e-03, ...,\n",
       "        1.22281909e-03, 1.18680475e-02, 1.77992345e-03],\n",
       "       [9.42847431e-01, 7.49468757e-03, 4.33738995e-03, ...,\n",
       "        4.09995817e-04, 1.68634916e-03, 2.29887525e-03],\n",
       "       [8.61112121e-03, 1.03622638e-02, 2.60285903e-02, ...,\n",
       "        9.69203771e-04, 3.56419524e-03, 2.38050055e-03]], dtype=float32), names=('neutral', 'joy', 'admiration', 'approval', 'love', 'realization', 'excitement', 'pride', 'disappointment', 'relief', 'annoyance', 'sadness', 'caring', 'disapproval', 'amusement', 'desire', 'gratitude', 'optimism', 'anger', 'grief', 'surprise', 'remorse', 'embarrassment', 'disgust', 'fear', 'nervousness', 'confusion', 'curiosity')))"
      ]
     },
     "execution_count": 10,
     "metadata": {},
     "output_type": "execute_result"
    }
   ],
   "source": [
    "from datetime import timedelta\n",
    "\n",
    "\n",
    "rectools_data = []\n",
    "rectools_diary_dense_features = []\n",
    "rectools_quote_dense_features = []\n",
    "rectools_diary_dense_fnames = None\n",
    "rectools_quote_dense_fnames = None\n",
    "diaries_index = set()\n",
    "quotes_index = set()\n",
    "start_time = pd.Timestamp.now()\n",
    "time_step = timedelta(minutes=1)\n",
    "for i, row in raw_interactions.iterrows():\n",
    "    quote = quotes_labeled_reddit[quotes_labeled_reddit['Text'] == row['Quote']]\n",
    "    quote_index = int(quote.index[0])\n",
    "    quote_features = quote.drop('Text', axis=1).iloc[0].to_list()\n",
    "\n",
    "    diary = diaries_labeled_reddit[diaries_labeled_reddit['Text'] == row['Text']]\n",
    "    diary_index = int(diary.index[0])\n",
    "    diary_features = diary.drop('Text', axis=1).iloc[0].to_list()\n",
    "\n",
    "    timestamp = start_time + i * time_step\n",
    "    if rectools_diary_dense_fnames is None:\n",
    "        quote_fnames = quote.columns.to_list()[1:]\n",
    "        diary_fnames = diary.columns.to_list()[1:]\n",
    "        rectools_diary_dense_fnames = ['id'] + diary_fnames\n",
    "        rectools_quote_dense_fnames = ['id'] + quote_fnames\n",
    "    rectools_data.append([diary_index, quote_index, row['Interaction'], timestamp])\n",
    "    if diary_index not in diaries_index:\n",
    "        diaries_index.add(diary_index)\n",
    "        rectools_diary_dense_features.append([diary_index] + diary_features)\n",
    "    if quote_index not in quotes_index:\n",
    "        quotes_index.add(quote_index)\n",
    "        rectools_quote_dense_features.append([quote_index] + quote_features)\n",
    "\n",
    "rectools_df = pd.DataFrame(rectools_data, columns=[*Columns.Interactions])\n",
    "user_features_df = pd.DataFrame(rectools_diary_dense_features, columns=rectools_diary_dense_fnames)\n",
    "item_features_df = pd.DataFrame(rectools_quote_dense_features, columns=rectools_quote_dense_fnames)\n",
    "rectools_ds = Dataset.construct(rectools_df,\n",
    "                            user_features_df=user_features_df,\n",
    "                            cat_user_features=rectools_diary_dense_fnames,\n",
    "                            item_features_df=item_features_df,\n",
    "                            cat_item_features=rectools_quote_dense_fnames,\n",
    "                            make_dense_user_features=True,\n",
    "                            make_dense_item_features=True,\n",
    "                            )\n",
    "rectools_ds"
   ]
  },
  {
   "cell_type": "code",
   "execution_count": 11,
   "metadata": {},
   "outputs": [
    {
     "name": "stdout",
     "output_type": "stream",
     "text": [
      "[2023-11-28 11:11:30,485] [INFO] [real_accelerator.py:158:get_accelerator] Setting ds_accelerator to cuda (auto detect)\n"
     ]
    },
    {
     "name": "stderr",
     "output_type": "stream",
     "text": [
      "GPU available: True (cuda), used: True\n",
      "TPU available: False, using: 0 TPU cores\n",
      "IPU available: False, using: 0 IPUs\n",
      "HPU available: False, using: 0 HPUs\n"
     ]
    },
    {
     "ename": "AttributeError",
     "evalue": "'Dataset' object has no attribute 'from_dataset'",
     "output_type": "error",
     "traceback": [
      "\u001b[0;31m---------------------------------------------------------------------------\u001b[0m",
      "\u001b[0;31mAttributeError\u001b[0m                            Traceback (most recent call last)",
      "\u001b[1;32m/home/user/vladimir/iu/quotes-recsys/notebooks/4.1-rectools-models.ipynb Cell 8\u001b[0m line \u001b[0;36m8\n\u001b[1;32m      <a href='vscode-notebook-cell://ssh-remote%2B7b22686f73744e616d65223a22414553227d/home/user/vladimir/iu/quotes-recsys/notebooks/4.1-rectools-models.ipynb#X12sdnNjb2RlLXJlbW90ZQ%3D%3D?line=0'>1</a>\u001b[0m \u001b[39mfrom\u001b[39;00m \u001b[39mrectools\u001b[39;00m\u001b[39m.\u001b[39;00m\u001b[39mmodels\u001b[39;00m \u001b[39mimport\u001b[39;00m DSSMModel\n\u001b[1;32m      <a href='vscode-notebook-cell://ssh-remote%2B7b22686f73744e616d65223a22414553227d/home/user/vladimir/iu/quotes-recsys/notebooks/4.1-rectools-models.ipynb#X12sdnNjb2RlLXJlbW90ZQ%3D%3D?line=3'>4</a>\u001b[0m model \u001b[39m=\u001b[39m DSSMModel(rectools_ds, \n\u001b[1;32m      <a href='vscode-notebook-cell://ssh-remote%2B7b22686f73744e616d65223a22414553227d/home/user/vladimir/iu/quotes-recsys/notebooks/4.1-rectools-models.ipynb#X12sdnNjb2RlLXJlbW90ZQ%3D%3D?line=4'>5</a>\u001b[0m                   max_epochs \u001b[39m=\u001b[39m \u001b[39m10\u001b[39m,\n\u001b[1;32m      <a href='vscode-notebook-cell://ssh-remote%2B7b22686f73744e616d65223a22414553227d/home/user/vladimir/iu/quotes-recsys/notebooks/4.1-rectools-models.ipynb#X12sdnNjb2RlLXJlbW90ZQ%3D%3D?line=5'>6</a>\u001b[0m                   batch_size \u001b[39m=\u001b[39m \u001b[39m64\u001b[39m\n\u001b[1;32m      <a href='vscode-notebook-cell://ssh-remote%2B7b22686f73744e616d65223a22414553227d/home/user/vladimir/iu/quotes-recsys/notebooks/4.1-rectools-models.ipynb#X12sdnNjb2RlLXJlbW90ZQ%3D%3D?line=6'>7</a>\u001b[0m                  )\n\u001b[0;32m----> <a href='vscode-notebook-cell://ssh-remote%2B7b22686f73744e616d65223a22414553227d/home/user/vladimir/iu/quotes-recsys/notebooks/4.1-rectools-models.ipynb#X12sdnNjb2RlLXJlbW90ZQ%3D%3D?line=7'>8</a>\u001b[0m model\u001b[39m.\u001b[39;49mfit(rectools_ds)\n",
      "File \u001b[0;32m~/miniconda3/envs/vladimir-torch/lib/python3.10/site-packages/rectools/models/base.py:55\u001b[0m, in \u001b[0;36mModelBase.fit\u001b[0;34m(self, dataset, *args, **kwargs)\u001b[0m\n\u001b[1;32m     42\u001b[0m \u001b[39mdef\u001b[39;00m \u001b[39mfit\u001b[39m(\u001b[39mself\u001b[39m: T, dataset: Dataset, \u001b[39m*\u001b[39margs: tp\u001b[39m.\u001b[39mAny, \u001b[39m*\u001b[39m\u001b[39m*\u001b[39mkwargs: tp\u001b[39m.\u001b[39mAny) \u001b[39m-\u001b[39m\u001b[39m>\u001b[39m T:\n\u001b[1;32m     43\u001b[0m \u001b[39m    \u001b[39m\u001b[39m\"\"\"\u001b[39;00m\n\u001b[1;32m     44\u001b[0m \u001b[39m    Fit model.\u001b[39;00m\n\u001b[1;32m     45\u001b[0m \n\u001b[0;32m   (...)\u001b[0m\n\u001b[1;32m     53\u001b[0m \u001b[39m    self\u001b[39;00m\n\u001b[1;32m     54\u001b[0m \u001b[39m    \"\"\"\u001b[39;00m\n\u001b[0;32m---> 55\u001b[0m     \u001b[39mself\u001b[39;49m\u001b[39m.\u001b[39;49m_fit(dataset, \u001b[39m*\u001b[39;49margs, \u001b[39m*\u001b[39;49m\u001b[39m*\u001b[39;49mkwargs)\n\u001b[1;32m     56\u001b[0m     \u001b[39mself\u001b[39m\u001b[39m.\u001b[39mis_fitted \u001b[39m=\u001b[39m \u001b[39mTrue\u001b[39;00m\n\u001b[1;32m     57\u001b[0m     \u001b[39mreturn\u001b[39;00m \u001b[39mself\u001b[39m\n",
      "File \u001b[0;32m~/miniconda3/envs/vladimir-torch/lib/python3.10/site-packages/rectools/models/dssm.py:288\u001b[0m, in \u001b[0;36mDSSMModel._fit\u001b[0;34m(self, dataset, dataset_valid)\u001b[0m\n\u001b[1;32m    280\u001b[0m \u001b[39mif\u001b[39;00m \u001b[39mself\u001b[39m\u001b[39m.\u001b[39mmodel \u001b[39mis\u001b[39;00m \u001b[39mNone\u001b[39;00m:\n\u001b[1;32m    281\u001b[0m     \u001b[39mself\u001b[39m\u001b[39m.\u001b[39mmodel \u001b[39m=\u001b[39m DSSM(\n\u001b[1;32m    282\u001b[0m         n_factors_user\u001b[39m=\u001b[39m\u001b[39m128\u001b[39m,\n\u001b[1;32m    283\u001b[0m         n_factors_item\u001b[39m=\u001b[39m\u001b[39m128\u001b[39m,\n\u001b[0;32m   (...)\u001b[0m\n\u001b[1;32m    286\u001b[0m         dim_interactions\u001b[39m=\u001b[39mdataset\u001b[39m.\u001b[39mget_user_item_matrix()\u001b[39m.\u001b[39mshape[\u001b[39m1\u001b[39m],\n\u001b[1;32m    287\u001b[0m     )\n\u001b[0;32m--> 288\u001b[0m train_dataset \u001b[39m=\u001b[39m \u001b[39mself\u001b[39;49m\u001b[39m.\u001b[39;49mdataset_type\u001b[39m.\u001b[39;49mfrom_dataset(dataset)  \u001b[39m# type: ignore\u001b[39;00m\n\u001b[1;32m    289\u001b[0m train_dataloader \u001b[39m=\u001b[39m DataLoader(\n\u001b[1;32m    290\u001b[0m     train_dataset,\n\u001b[1;32m    291\u001b[0m     batch_size\u001b[39m=\u001b[39m\u001b[39mself\u001b[39m\u001b[39m.\u001b[39mbatch_size,\n\u001b[1;32m    292\u001b[0m     num_workers\u001b[39m=\u001b[39m\u001b[39mself\u001b[39m\u001b[39m.\u001b[39mdataloader_num_workers,\n\u001b[1;32m    293\u001b[0m     shuffle\u001b[39m=\u001b[39m\u001b[39mTrue\u001b[39;00m,\n\u001b[1;32m    294\u001b[0m )\n\u001b[1;32m    295\u001b[0m \u001b[39mif\u001b[39;00m dataset_valid \u001b[39mis\u001b[39;00m \u001b[39mnot\u001b[39;00m \u001b[39mNone\u001b[39;00m:\n",
      "\u001b[0;31mAttributeError\u001b[0m: 'Dataset' object has no attribute 'from_dataset'"
     ]
    }
   ],
   "source": [
    "from rectools.models import DSSMModel\n",
    "\n",
    "\n",
    "model = DSSMModel(rectools_ds, \n",
    "                  max_epochs = 10,\n",
    "                  batch_size = 64\n",
    "                 )\n",
    "model.fit(rectools_ds)"
   ]
  },
  {
   "cell_type": "code",
   "execution_count": null,
   "metadata": {},
   "outputs": [],
   "source": []
  }
 ],
 "metadata": {
  "kernelspec": {
   "display_name": "vladimir-torch",
   "language": "python",
   "name": "vladimir-torch"
  },
  "language_info": {
   "codemirror_mode": {
    "name": "ipython",
    "version": 3
   },
   "file_extension": ".py",
   "mimetype": "text/x-python",
   "name": "python",
   "nbconvert_exporter": "python",
   "pygments_lexer": "ipython3",
   "version": "3.10.12"
  }
 },
 "nbformat": 4,
 "nbformat_minor": 2
}
