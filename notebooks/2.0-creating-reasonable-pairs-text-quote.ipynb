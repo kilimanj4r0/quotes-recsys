{
 "cells": [
  {
   "cell_type": "markdown",
   "metadata": {},
   "source": [
    "# Creating a Dataset of Pairs (diary-style text, quote)"
   ]
  },
  {
   "cell_type": "markdown",
   "metadata": {},
   "source": [
    "## 1. Based on Overlapping Emotion Labels of Text and Quote"
   ]
  },
  {
   "cell_type": "markdown",
   "metadata": {},
   "source": [
    "Taking the labeled datasets of diaries (diary-style texts) and quotes we can compute most appropriate quote for diary entry. To choose most suitable we will utilize overlapping method. This method include the following comparison of emotion labels of both diary-style text and quote: pick those quote that has maximum overlapping emotion labels (and greater than some score) with diary-style text.  "
   ]
  },
  {
   "cell_type": "code",
   "execution_count": null,
   "metadata": {},
   "outputs": [],
   "source": []
  },
  {
   "cell_type": "markdown",
   "metadata": {},
   "source": [
    "## 2. Based on Embeddings of Text and Quote"
   ]
  },
  {
   "cell_type": "markdown",
   "metadata": {},
   "source": [
    "Utilizing embeddings that are learned by chosen classifiers (`roberta-base-go_emotions` and `twitter-roberta-base-emotion-multilabel-latest`) we can compare of embeddings of text and quote. To get embeddings for text and quote we need to turn off the last classification layer from both models. We will use Cosine Similary between embeddings to compare the text and quote. So, top-1 quote by Cosine Similarity (above some threshold) will be chosen for each diary-style text.  "
   ]
  },
  {
   "cell_type": "code",
   "execution_count": null,
   "metadata": {},
   "outputs": [],
   "source": []
  }
 ],
 "metadata": {
  "language_info": {
   "name": "python"
  }
 },
 "nbformat": 4,
 "nbformat_minor": 2
}
