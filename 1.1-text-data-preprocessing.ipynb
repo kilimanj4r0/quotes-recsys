{
 "cells": [
  {
   "cell_type": "markdown",
   "metadata": {},
   "source": [
    "# Data Preprocessing of Text Datasets"
   ]
  },
  {
   "cell_type": "markdown",
   "metadata": {},
   "source": [
    "## 1. Diary-style Text Datasets "
   ]
  },
  {
   "cell_type": "markdown",
   "metadata": {},
   "source": [
    "Datasets:\n",
    "\n",
    "1. [journal-entries-with-labelled-emotions](https://www.kaggle.com/datasets/madhavmalhotra/journal-entries-with-labelled-emotions) — 1500 journal entries labelled with 18 emotions from people reflecting on their day.\n",
    "2. [Diary-Entry-To-Rap](https://huggingface.co/datasets/chaudha7/Diary-Entry-To-Rap) — 175 diary entries with age and gender writer's info plus transformed diary into rap text with certain mood and style.\n",
    "\n",
    "From both datasets only texts will be taken."
   ]
  },
  {
   "cell_type": "code",
   "execution_count": null,
   "metadata": {},
   "outputs": [],
   "source": []
  },
  {
   "cell_type": "markdown",
   "metadata": {},
   "source": [
    "## 2. Reddit and Twitter Posts Datasets"
   ]
  },
  {
   "cell_type": "markdown",
   "metadata": {},
   "source": [
    "Datasets:\n",
    "\n",
    "1. [go_emotions](https://huggingface.co/datasets/go_emotions) — 58k carefully curated Reddit comments labeled for 27 emotion categories or Neutral.\n",
    "2. [sem_eval_2018_task_1](https://huggingface.co/datasets/sem_eval_2018_task_1) — a dataset of Twitter tweets in Arabic, English (11k entries), Spanish to automatically determine the intensity of emotions (E) and intensity of sentiment (aka valence V) of the tweeters from their tweets.\n",
    "\n",
    "Both datasets are designed to solve multi-label emotion classification task. From both datasets only texts will be taken."
   ]
  },
  {
   "cell_type": "code",
   "execution_count": null,
   "metadata": {},
   "outputs": [],
   "source": []
  }
 ],
 "metadata": {
  "kernelspec": {
   "display_name": "vladimir-torch",
   "language": "python",
   "name": "python3"
  },
  "language_info": {
   "codemirror_mode": {
    "name": "ipython",
    "version": 3
   },
   "file_extension": ".py",
   "mimetype": "text/x-python",
   "name": "python",
   "nbconvert_exporter": "python",
   "pygments_lexer": "ipython3",
   "version": "3.10.12"
  }
 },
 "nbformat": 4,
 "nbformat_minor": 2
}
