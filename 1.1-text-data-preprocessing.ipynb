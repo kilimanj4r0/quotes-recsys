{
 "cells": [
  {
   "cell_type": "markdown",
   "metadata": {},
   "source": [
    "# Data Preprocessing of Text Datasets"
   ]
  },
  {
   "cell_type": "markdown",
   "metadata": {},
   "source": [
    "## 1. Diary-style Text Datasets "
   ]
  },
  {
   "cell_type": "markdown",
   "metadata": {},
   "source": [
    "Datasets:\n",
    "\n",
    "1. [journal-entries-with-labelled-emotions](https://www.kaggle.com/datasets/madhavmalhotra/journal-entries-with-labelled-emotions) — 1500 journal entries labelled with 18 emotions from people reflecting on their day.\n",
    "2. [Diary-Entry-To-Rap](https://huggingface.co/datasets/chaudha7/Diary-Entry-To-Rap) — 175 diary entries with age and gender writer's info plus transformed diary into rap text with certain mood and style.\n",
    "\n",
    "From both datasets only texts will be taken."
   ]
  },
  {
   "cell_type": "code",
   "execution_count": 12,
   "metadata": {},
   "outputs": [
    {
     "data": {
      "text/html": [
       "<div>\n",
       "<style scoped>\n",
       "    .dataframe tbody tr th:only-of-type {\n",
       "        vertical-align: middle;\n",
       "    }\n",
       "\n",
       "    .dataframe tbody tr th {\n",
       "        vertical-align: top;\n",
       "    }\n",
       "\n",
       "    .dataframe thead th {\n",
       "        text-align: right;\n",
       "    }\n",
       "</style>\n",
       "<table border=\"1\" class=\"dataframe\">\n",
       "  <thead>\n",
       "    <tr style=\"text-align: right;\">\n",
       "      <th></th>\n",
       "      <th>Answer</th>\n",
       "      <th>Answer.f1.afraid.raw</th>\n",
       "      <th>Answer.f1.angry.raw</th>\n",
       "      <th>Answer.f1.anxious.raw</th>\n",
       "      <th>Answer.f1.ashamed.raw</th>\n",
       "      <th>Answer.f1.awkward.raw</th>\n",
       "      <th>Answer.f1.bored.raw</th>\n",
       "      <th>Answer.f1.calm.raw</th>\n",
       "      <th>Answer.f1.confused.raw</th>\n",
       "      <th>Answer.f1.disgusted.raw</th>\n",
       "      <th>...</th>\n",
       "      <th>Answer.t1.family.raw</th>\n",
       "      <th>Answer.t1.food.raw</th>\n",
       "      <th>Answer.t1.friends.raw</th>\n",
       "      <th>Answer.t1.god.raw</th>\n",
       "      <th>Answer.t1.health.raw</th>\n",
       "      <th>Answer.t1.love.raw</th>\n",
       "      <th>Answer.t1.recreation.raw</th>\n",
       "      <th>Answer.t1.school.raw</th>\n",
       "      <th>Answer.t1.sleep.raw</th>\n",
       "      <th>Answer.t1.work.raw</th>\n",
       "    </tr>\n",
       "  </thead>\n",
       "  <tbody>\n",
       "    <tr>\n",
       "      <th>0</th>\n",
       "      <td>My family was the most salient part of my day,...</td>\n",
       "      <td>False</td>\n",
       "      <td>False</td>\n",
       "      <td>True</td>\n",
       "      <td>False</td>\n",
       "      <td>False</td>\n",
       "      <td>False</td>\n",
       "      <td>False</td>\n",
       "      <td>False</td>\n",
       "      <td>False</td>\n",
       "      <td>...</td>\n",
       "      <td>True</td>\n",
       "      <td>False</td>\n",
       "      <td>False</td>\n",
       "      <td>False</td>\n",
       "      <td>False</td>\n",
       "      <td>False</td>\n",
       "      <td>False</td>\n",
       "      <td>False</td>\n",
       "      <td>False</td>\n",
       "      <td>False</td>\n",
       "    </tr>\n",
       "  </tbody>\n",
       "</table>\n",
       "<p>1 rows × 30 columns</p>\n",
       "</div>"
      ],
      "text/plain": [
       "                                              Answer  Answer.f1.afraid.raw  \\\n",
       "0  My family was the most salient part of my day,...                 False   \n",
       "\n",
       "   Answer.f1.angry.raw  Answer.f1.anxious.raw  Answer.f1.ashamed.raw  \\\n",
       "0                False                   True                  False   \n",
       "\n",
       "   Answer.f1.awkward.raw  Answer.f1.bored.raw  Answer.f1.calm.raw  \\\n",
       "0                  False                False               False   \n",
       "\n",
       "   Answer.f1.confused.raw  Answer.f1.disgusted.raw  ...  Answer.t1.family.raw  \\\n",
       "0                   False                    False  ...                  True   \n",
       "\n",
       "   Answer.t1.food.raw  Answer.t1.friends.raw  Answer.t1.god.raw  \\\n",
       "0               False                  False              False   \n",
       "\n",
       "   Answer.t1.health.raw  Answer.t1.love.raw  Answer.t1.recreation.raw  \\\n",
       "0                 False               False                     False   \n",
       "\n",
       "   Answer.t1.school.raw  Answer.t1.sleep.raw  Answer.t1.work.raw  \n",
       "0                 False                False               False  \n",
       "\n",
       "[1 rows x 30 columns]"
      ]
     },
     "execution_count": 12,
     "metadata": {},
     "output_type": "execute_result"
    }
   ],
   "source": [
    "import pandas as pd\n",
    "\n",
    "\n",
    "journals_ds_dir = 'data/journals.csv'\n",
    "\n",
    "journals = pd.read_csv(journals_ds_dir)\n",
    "journals.head(1)"
   ]
  },
  {
   "cell_type": "code",
   "execution_count": 13,
   "metadata": {},
   "outputs": [
    {
     "name": "stderr",
     "output_type": "stream",
     "text": [
      "Found cached dataset csv (/root/.cache/huggingface/datasets/chaudha7___csv/chaudha7--Diary-Entry-To-Rap-b5b2de22c68c3693/0.0.0/eea64c71ca8b46dd3f537ed218fc9bf495d5707789152eb2764f5c78fa66d59d)\n"
     ]
    },
    {
     "data": {
      "application/vnd.jupyter.widget-view+json": {
       "model_id": "f6abd18809ed41e9aa08eb189bf93705",
       "version_major": 2,
       "version_minor": 0
      },
      "text/plain": [
       "  0%|          | 0/1 [00:00<?, ?it/s]"
      ]
     },
     "metadata": {},
     "output_type": "display_data"
    },
    {
     "data": {
      "text/plain": [
       "DatasetDict({\n",
       "    train: Dataset({\n",
       "        features: ['Unnamed: 0', 'Age', 'Gender', 'Mood', 'Writing Manner', 'Diary Entry', 'Rap Song'],\n",
       "        num_rows: 175\n",
       "    })\n",
       "})"
      ]
     },
     "execution_count": 13,
     "metadata": {},
     "output_type": "execute_result"
    }
   ],
   "source": [
    "from datasets import load_dataset\n",
    "\n",
    "\n",
    "diaries = load_dataset('chaudha7/Diary-Entry-To-Rap')\n",
    "diaries"
   ]
  },
  {
   "cell_type": "markdown",
   "metadata": {},
   "source": [
    "## 2. Reddit and Twitter Posts Datasets"
   ]
  },
  {
   "cell_type": "markdown",
   "metadata": {},
   "source": [
    "Datasets:\n",
    "\n",
    "1. [go_emotions](https://huggingface.co/datasets/go_emotions) — 58k carefully curated Reddit comments labeled for 27 emotion categories or Neutral.\n",
    "2. [sem_eval_2018_task_1](https://huggingface.co/datasets/sem_eval_2018_task_1) — a dataset of Twitter tweets in Arabic, English (11k entries), Spanish to automatically determine the intensity of emotions (E) and intensity of sentiment (aka valence V) of the tweeters from their tweets.\n",
    "\n",
    "Both datasets are designed to solve multi-label emotion classification task. From both datasets only texts will be taken."
   ]
  },
  {
   "cell_type": "markdown",
   "metadata": {},
   "source": [
    "TODO: try"
   ]
  }
 ],
 "metadata": {
  "kernelspec": {
   "display_name": "vladimir-torch",
   "language": "python",
   "name": "python3"
  },
  "language_info": {
   "codemirror_mode": {
    "name": "ipython",
    "version": 3
   },
   "file_extension": ".py",
   "mimetype": "text/x-python",
   "name": "python",
   "nbconvert_exporter": "python",
   "pygments_lexer": "ipython3",
   "version": "3.10.12"
  }
 },
 "nbformat": 4,
 "nbformat_minor": 2
}
