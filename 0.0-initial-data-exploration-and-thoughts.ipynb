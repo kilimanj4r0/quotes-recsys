{
 "cells": [
  {
   "cell_type": "markdown",
   "metadata": {},
   "source": [
    "# Initial Thoughts"
   ]
  },
  {
   "cell_type": "markdown",
   "metadata": {},
   "source": [
    "1. Find labeled datasets of diary-style texts and quotes, then some how play with their labels.\n",
    "2. Fine just datasets of texts that are close to diary-style domain and quotes datasets (maybe parse from somewhere), then label all of these manually using one multi-label classifier."
   ]
  },
  {
   "cell_type": "markdown",
   "metadata": {},
   "source": [
    "Found datasets:\n",
    "\n",
    "1. [go_emotions](https://huggingface.co/datasets/go_emotions)\n",
    "2. [sem_eval_2018_task_1](https://huggingface.co/datasets/sem_eval_2018_task_1)\n",
    "3. [journal-entries-with-labelled-emotions](https://www.kaggle.com/datasets/madhavmalhotra/journal-entries-with-labelled-emotions)\n",
    "4. [Diary-Entry-To-Rap](https://huggingface.co/datasets/chaudha7/Diary-Entry-To-Rap)\n",
    "5. [Quotes Dataset](https://www.kaggle.com/datasets/hiteshsuthar101/quotes-dataset) "
   ]
  },
  {
   "cell_type": "markdown",
   "metadata": {},
   "source": [
    "Found classifiers from [HuggingFace Trending Models](https://huggingface.co/models?sort=trending&search=emotion):\n",
    "\n",
    "1. [roberta-base-go_emotions](https://huggingface.co/SamLowe/roberta-base-go_emotions) — 27 labels + Neutral label\n",
    "2. [twitter-roberta-base-emotion-multilabel-latest](https://huggingface.co/cardiffnlp/twitter-roberta-base-emotion-multilabel-latest) — 11 labels (or 4 labels from `tweetnlp` [[1]]())\n",
    "3. [bert-base-uncased-emotion](https://huggingface.co/bhadresh-savani/bert-base-uncased-emotion) — 6 labels (Ekman emotions)\n",
    "4. [emotion_text_classifier](https://huggingface.co/michellejieli/emotion_text_classifier) — 6 labels (Ekman emotions)\n",
    "5. [EmoRoBERTa](https://huggingface.co/arpanghoshal/EmoRoBERTa) — 27 labels + Neutral label\n",
    "\n",
    "\n",
    "We will experiment with the first two classifiers. There are reasons to decline 3, 4, and 5:\n",
    "- `roberta-base-go_emotions` outperforms `EmoRoBERTa` on the same dataset\n",
    "-  `bert-base-uncased-emotion` and `emotion_text_classifier` are trained to predict only 6 Ekman emotions, so we consider it as not enough for our task. Also, according to Demszky *et al.* [[2]](https://arxiv.org/pdf/2005.00547.pdf), the 6 emotion categories proposed by Ekman in 1992 are very basic and recent findings in psychology offered to have more complex \"semantic space\" of emotion."
   ]
  },
  {
   "cell_type": "markdown",
   "metadata": {},
   "source": [
    "## Overall Picture of the Problem"
   ]
  },
  {
   "cell_type": "markdown",
   "metadata": {},
   "source": [
    "The goal is to build *content-based recommendation system*. By chosing such approach, we will recommend to user $x$ similar to previous items rated highly by $x$.\n",
    "\n",
    "First, we need to construct a dataset of user interactions with items. Our setting is:\n",
    "- **user**: represented by unique id and text (diary-style) + features of the text (emotions)\n",
    "- **item**: represented by unique id and quote + features of the quote (emotions)\n",
    "- **interaction**: weight that denotes whether user liked the item or not, i.e., it can be either -1 or 1\n",
    "\n",
    "Therefore, by combining all things we will get our utilty matrix (dataset)."
   ]
  },
  {
   "cell_type": "markdown",
   "metadata": {},
   "source": [
    "#### Then, preliminary steps are:\n",
    "1. Solve Gathering Ratings problem\n",
    "    1. Collect samples that represent **user** and **item** (filtering suitable data)\n",
    "    2. Construct feature vector for each **user** and **item** by using multi-label classifier (choosing somehow apropriate classifier)\n",
    "    3. Build a dataset manually (or using external tools) by creating interaction examples\n",
    "    4. Split the dataset into train and test\n",
    "2. Solve Extrapolating Utilities problem\n",
    "    1. Make utility matrix dense (probably it will be dense since we have only numerical features and binary interaction weight)\n",
    "    2. Train different RecSys models\n",
    "3. Evaluate extrapolation methods\n",
    "    1. Evaluate (compare) trained models by well-known RecSys metrics"
   ]
  },
  {
   "cell_type": "markdown",
   "metadata": {},
   "source": [
    "#### Problems to solve:\n",
    "\n",
    "- How to build user profile? Most probably, it will be a collection of quotes user like and dislike.\n",
    "- How to avoid overspecialization? User might have multiple quotes that they like"
   ]
  },
  {
   "cell_type": "markdown",
   "metadata": {},
   "source": [
    "### Foot notes\n",
    "- RecSys models and metrics can be taken from the most recent and new open-source library [`rectools`](https://github.com/MobileTeleSystems/RecTools) released by MTS\n",
    "- This findings were inspired by [Habr article about `rectools`](https://habr.com/ru/articles/773126/) and lecture about Recomendation Systems (on the PMLDL course)."
   ]
  }
 ],
 "metadata": {
  "language_info": {
   "name": "python"
  }
 },
 "nbformat": 4,
 "nbformat_minor": 2
}
