{
 "cells": [
  {
   "cell_type": "markdown",
   "metadata": {},
   "source": [
    "# Initial Thoughts About Data"
   ]
  },
  {
   "cell_type": "markdown",
   "metadata": {},
   "source": [
    "1. Find labeled datasets of diary-style texts and quotes, then some how play with their labels.\n",
    "2. Fine just datasets of texts that are close to diary-style domain and quotes datasets (maybe parse from somewhere), then label all of these manually using one multi-label classifier."
   ]
  },
  {
   "cell_type": "markdown",
   "metadata": {},
   "source": [
    "Found datasets:\n",
    "\n",
    "1. [go_emotions](https://huggingface.co/datasets/go_emotions)\n",
    "2. [sem_eval_2018_task_1](https://huggingface.co/datasets/sem_eval_2018_task_1)\n",
    "3. [journal-entries-with-labelled-emotions](https://www.kaggle.com/datasets/madhavmalhotra/journal-entries-with-labelled-emotions)\n",
    "4. [Diary-Entry-To-Rap](https://huggingface.co/datasets/chaudha7/Diary-Entry-To-Rap)\n",
    "5. [Quotes Dataset](https://www.kaggle.com/datasets/hiteshsuthar101/quotes-dataset) "
   ]
  },
  {
   "cell_type": "markdown",
   "metadata": {},
   "source": [
    "Found classifiers from [HuggingFace Trending Models](https://huggingface.co/models?sort=trending&search=emotion):\n",
    "\n",
    "1. [roberta-base-go_emotions](https://huggingface.co/SamLowe/roberta-base-go_emotions)\n",
    "2. [twitter-roberta-base-emotion-multilabel-latest](https://huggingface.co/cardiffnlp/twitter-roberta-base-emotion-multilabel-latest)\n",
    "3. [bert-base-uncased-emotion](https://huggingface.co/bhadresh-savani/bert-base-uncased-emotion)\n",
    "4. [emotion_text_classifier](https://huggingface.co/michellejieli/emotion_text_classifier)\n",
    "5. [EmoRoBERTa](https://huggingface.co/arpanghoshal/EmoRoBERTa)"
   ]
  }
 ],
 "metadata": {
  "language_info": {
   "name": "python"
  }
 },
 "nbformat": 4,
 "nbformat_minor": 2
}
